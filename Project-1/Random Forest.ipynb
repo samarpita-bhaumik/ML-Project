{
  "nbformat": 4,
  "nbformat_minor": 0,
  "metadata": {
    "colab": {
      "provenance": []
    },
    "kernelspec": {
      "name": "python3",
      "display_name": "Python 3"
    },
    "language_info": {
      "name": "python"
    }
  },
  "cells": [
    {
      "cell_type": "markdown",
      "source": [
        "Q4. ***Random Forest***: For this question also, you have to use the same football dataset. The aim is to use the Random Forest model to do classification and regression both.\n",
        "\n",
        "(a) ***Classification***: Your target column is ‘contribution type’. Process the data as you want, modify/drop any columns that you want, and play around with the hyperparameters. Try to understand and observe the difference in results. Try different losses (or quality criterion)– ‘gini’, ‘entropy’, ‘log loss’. After training the model, report test accuracy and f1 score.\n",
        "\n",
        "(b) ***Regression:*** Your target column is ‘overall’. Again, you are free to process the dataset and encouraged to try different hyperparameters. Use MSE and MAE one by one to train the models, and report test MSE and MAE for both models.\n",
        "\n",
        "Note: You can use sklearn library to get Random Forest implementations."
      ],
      "metadata": {
        "id": "ABmFbpx80JA2"
      }
    },
    {
      "cell_type": "code",
      "execution_count": 2,
      "metadata": {
        "id": "xqaAD2JIwptF"
      },
      "outputs": [],
      "source": [
        "import csv\n",
        "def load_data(filename):\n",
        "    dataset = []\n",
        "    csvfile = open(filename, newline = '')\n",
        "    reader = csv.reader(csvfile)\n",
        "    for i in reader:\n",
        "        dataset.append(i)\n",
        "    return dataset"
      ]
    },
    {
      "cell_type": "code",
      "source": [
        "from google.colab import drive\n",
        "\n",
        "drive.mount('/content/drive')"
      ],
      "metadata": {
        "colab": {
          "base_uri": "https://localhost:8080/"
        },
        "id": "fhR5-hf-0h4U",
        "outputId": "5bdbb39a-c585-4f55-85e4-0114b516dd4f"
      },
      "execution_count": 3,
      "outputs": [
        {
          "output_type": "stream",
          "name": "stdout",
          "text": [
            "Mounted at /content/drive\n"
          ]
        }
      ]
    },
    {
      "cell_type": "code",
      "source": [
        "import pandas as pd\n",
        "import numpy as np\n",
        "import matplotlib.pyplot as plt\n",
        "from mlxtend.evaluate import bias_variance_decomp\n",
        "\n",
        "path_link = \"/content/drive/MyDrive/ML_assignment/football.csv\"\n",
        "dataframe = pd.read_csv(path_link)\n",
        "dataframe.head()"
      ],
      "metadata": {
        "colab": {
          "base_uri": "https://localhost:8080/",
          "height": 290
        },
        "id": "6LCLOe3I0rCk",
        "outputId": "8dd6bb18-651b-45e8-8aef-5797f75151cd"
      },
      "execution_count": 4,
      "outputs": [
        {
          "output_type": "execute_result",
          "data": {
            "text/plain": [
              "   sofifa_id         short_name  overall  potential    value_eur  wage_eur  \\\n",
              "0     158023           L. Messi       93         93   78000000.0  320000.0   \n",
              "1     188545     R. Lewandowski       92         92  119500000.0  270000.0   \n",
              "2      20801  Cristiano Ronaldo       91         91   45000000.0  270000.0   \n",
              "3     190871          Neymar Jr       91         91  129000000.0  270000.0   \n",
              "4     192985       K. De Bruyne       91         91  125500000.0  350000.0   \n",
              "\n",
              "   age  height_cm  weight_kg  club_team_id  ... defending_marking_awareness  \\\n",
              "0   34        170         72          73.0  ...                          20   \n",
              "1   32        185         81          21.0  ...                          35   \n",
              "2   36        187         83          11.0  ...                          24   \n",
              "3   29        175         68          73.0  ...                          35   \n",
              "4   30        181         70          10.0  ...                          68   \n",
              "\n",
              "  defending_standing_tackle  defending_sliding_tackle  goalkeeping_diving  \\\n",
              "0                        35                        24                   6   \n",
              "1                        42                        19                  15   \n",
              "2                        32                        24                   7   \n",
              "3                        32                        29                   9   \n",
              "4                        65                        53                  15   \n",
              "\n",
              "   goalkeeping_handling goalkeeping_kicking  goalkeeping_positioning  \\\n",
              "0                    11                  15                       14   \n",
              "1                     6                  12                        8   \n",
              "2                    11                  15                       14   \n",
              "3                     9                  15                       15   \n",
              "4                    13                   5                       10   \n",
              "\n",
              "   goalkeeping_reflexes  goalkeeping_speed contribution_type  \n",
              "0                     8                NaN                 1  \n",
              "1                    10                NaN                 1  \n",
              "2                    11                NaN                 1  \n",
              "3                    11                NaN                 1  \n",
              "4                    13                NaN                 1  \n",
              "\n",
              "[5 rows x 66 columns]"
            ],
            "text/html": [
              "\n",
              "  <div id=\"df-37c1ddff-f2a5-4135-9bd5-c7344317f240\" class=\"colab-df-container\">\n",
              "    <div>\n",
              "<style scoped>\n",
              "    .dataframe tbody tr th:only-of-type {\n",
              "        vertical-align: middle;\n",
              "    }\n",
              "\n",
              "    .dataframe tbody tr th {\n",
              "        vertical-align: top;\n",
              "    }\n",
              "\n",
              "    .dataframe thead th {\n",
              "        text-align: right;\n",
              "    }\n",
              "</style>\n",
              "<table border=\"1\" class=\"dataframe\">\n",
              "  <thead>\n",
              "    <tr style=\"text-align: right;\">\n",
              "      <th></th>\n",
              "      <th>sofifa_id</th>\n",
              "      <th>short_name</th>\n",
              "      <th>overall</th>\n",
              "      <th>potential</th>\n",
              "      <th>value_eur</th>\n",
              "      <th>wage_eur</th>\n",
              "      <th>age</th>\n",
              "      <th>height_cm</th>\n",
              "      <th>weight_kg</th>\n",
              "      <th>club_team_id</th>\n",
              "      <th>...</th>\n",
              "      <th>defending_marking_awareness</th>\n",
              "      <th>defending_standing_tackle</th>\n",
              "      <th>defending_sliding_tackle</th>\n",
              "      <th>goalkeeping_diving</th>\n",
              "      <th>goalkeeping_handling</th>\n",
              "      <th>goalkeeping_kicking</th>\n",
              "      <th>goalkeeping_positioning</th>\n",
              "      <th>goalkeeping_reflexes</th>\n",
              "      <th>goalkeeping_speed</th>\n",
              "      <th>contribution_type</th>\n",
              "    </tr>\n",
              "  </thead>\n",
              "  <tbody>\n",
              "    <tr>\n",
              "      <th>0</th>\n",
              "      <td>158023</td>\n",
              "      <td>L. Messi</td>\n",
              "      <td>93</td>\n",
              "      <td>93</td>\n",
              "      <td>78000000.0</td>\n",
              "      <td>320000.0</td>\n",
              "      <td>34</td>\n",
              "      <td>170</td>\n",
              "      <td>72</td>\n",
              "      <td>73.0</td>\n",
              "      <td>...</td>\n",
              "      <td>20</td>\n",
              "      <td>35</td>\n",
              "      <td>24</td>\n",
              "      <td>6</td>\n",
              "      <td>11</td>\n",
              "      <td>15</td>\n",
              "      <td>14</td>\n",
              "      <td>8</td>\n",
              "      <td>NaN</td>\n",
              "      <td>1</td>\n",
              "    </tr>\n",
              "    <tr>\n",
              "      <th>1</th>\n",
              "      <td>188545</td>\n",
              "      <td>R. Lewandowski</td>\n",
              "      <td>92</td>\n",
              "      <td>92</td>\n",
              "      <td>119500000.0</td>\n",
              "      <td>270000.0</td>\n",
              "      <td>32</td>\n",
              "      <td>185</td>\n",
              "      <td>81</td>\n",
              "      <td>21.0</td>\n",
              "      <td>...</td>\n",
              "      <td>35</td>\n",
              "      <td>42</td>\n",
              "      <td>19</td>\n",
              "      <td>15</td>\n",
              "      <td>6</td>\n",
              "      <td>12</td>\n",
              "      <td>8</td>\n",
              "      <td>10</td>\n",
              "      <td>NaN</td>\n",
              "      <td>1</td>\n",
              "    </tr>\n",
              "    <tr>\n",
              "      <th>2</th>\n",
              "      <td>20801</td>\n",
              "      <td>Cristiano Ronaldo</td>\n",
              "      <td>91</td>\n",
              "      <td>91</td>\n",
              "      <td>45000000.0</td>\n",
              "      <td>270000.0</td>\n",
              "      <td>36</td>\n",
              "      <td>187</td>\n",
              "      <td>83</td>\n",
              "      <td>11.0</td>\n",
              "      <td>...</td>\n",
              "      <td>24</td>\n",
              "      <td>32</td>\n",
              "      <td>24</td>\n",
              "      <td>7</td>\n",
              "      <td>11</td>\n",
              "      <td>15</td>\n",
              "      <td>14</td>\n",
              "      <td>11</td>\n",
              "      <td>NaN</td>\n",
              "      <td>1</td>\n",
              "    </tr>\n",
              "    <tr>\n",
              "      <th>3</th>\n",
              "      <td>190871</td>\n",
              "      <td>Neymar Jr</td>\n",
              "      <td>91</td>\n",
              "      <td>91</td>\n",
              "      <td>129000000.0</td>\n",
              "      <td>270000.0</td>\n",
              "      <td>29</td>\n",
              "      <td>175</td>\n",
              "      <td>68</td>\n",
              "      <td>73.0</td>\n",
              "      <td>...</td>\n",
              "      <td>35</td>\n",
              "      <td>32</td>\n",
              "      <td>29</td>\n",
              "      <td>9</td>\n",
              "      <td>9</td>\n",
              "      <td>15</td>\n",
              "      <td>15</td>\n",
              "      <td>11</td>\n",
              "      <td>NaN</td>\n",
              "      <td>1</td>\n",
              "    </tr>\n",
              "    <tr>\n",
              "      <th>4</th>\n",
              "      <td>192985</td>\n",
              "      <td>K. De Bruyne</td>\n",
              "      <td>91</td>\n",
              "      <td>91</td>\n",
              "      <td>125500000.0</td>\n",
              "      <td>350000.0</td>\n",
              "      <td>30</td>\n",
              "      <td>181</td>\n",
              "      <td>70</td>\n",
              "      <td>10.0</td>\n",
              "      <td>...</td>\n",
              "      <td>68</td>\n",
              "      <td>65</td>\n",
              "      <td>53</td>\n",
              "      <td>15</td>\n",
              "      <td>13</td>\n",
              "      <td>5</td>\n",
              "      <td>10</td>\n",
              "      <td>13</td>\n",
              "      <td>NaN</td>\n",
              "      <td>1</td>\n",
              "    </tr>\n",
              "  </tbody>\n",
              "</table>\n",
              "<p>5 rows × 66 columns</p>\n",
              "</div>\n",
              "    <div class=\"colab-df-buttons\">\n",
              "\n",
              "  <div class=\"colab-df-container\">\n",
              "    <button class=\"colab-df-convert\" onclick=\"convertToInteractive('df-37c1ddff-f2a5-4135-9bd5-c7344317f240')\"\n",
              "            title=\"Convert this dataframe to an interactive table.\"\n",
              "            style=\"display:none;\">\n",
              "\n",
              "  <svg xmlns=\"http://www.w3.org/2000/svg\" height=\"24px\" viewBox=\"0 -960 960 960\">\n",
              "    <path d=\"M120-120v-720h720v720H120Zm60-500h600v-160H180v160Zm220 220h160v-160H400v160Zm0 220h160v-160H400v160ZM180-400h160v-160H180v160Zm440 0h160v-160H620v160ZM180-180h160v-160H180v160Zm440 0h160v-160H620v160Z\"/>\n",
              "  </svg>\n",
              "    </button>\n",
              "\n",
              "  <style>\n",
              "    .colab-df-container {\n",
              "      display:flex;\n",
              "      gap: 12px;\n",
              "    }\n",
              "\n",
              "    .colab-df-convert {\n",
              "      background-color: #E8F0FE;\n",
              "      border: none;\n",
              "      border-radius: 50%;\n",
              "      cursor: pointer;\n",
              "      display: none;\n",
              "      fill: #1967D2;\n",
              "      height: 32px;\n",
              "      padding: 0 0 0 0;\n",
              "      width: 32px;\n",
              "    }\n",
              "\n",
              "    .colab-df-convert:hover {\n",
              "      background-color: #E2EBFA;\n",
              "      box-shadow: 0px 1px 2px rgba(60, 64, 67, 0.3), 0px 1px 3px 1px rgba(60, 64, 67, 0.15);\n",
              "      fill: #174EA6;\n",
              "    }\n",
              "\n",
              "    .colab-df-buttons div {\n",
              "      margin-bottom: 4px;\n",
              "    }\n",
              "\n",
              "    [theme=dark] .colab-df-convert {\n",
              "      background-color: #3B4455;\n",
              "      fill: #D2E3FC;\n",
              "    }\n",
              "\n",
              "    [theme=dark] .colab-df-convert:hover {\n",
              "      background-color: #434B5C;\n",
              "      box-shadow: 0px 1px 3px 1px rgba(0, 0, 0, 0.15);\n",
              "      filter: drop-shadow(0px 1px 2px rgba(0, 0, 0, 0.3));\n",
              "      fill: #FFFFFF;\n",
              "    }\n",
              "  </style>\n",
              "\n",
              "    <script>\n",
              "      const buttonEl =\n",
              "        document.querySelector('#df-37c1ddff-f2a5-4135-9bd5-c7344317f240 button.colab-df-convert');\n",
              "      buttonEl.style.display =\n",
              "        google.colab.kernel.accessAllowed ? 'block' : 'none';\n",
              "\n",
              "      async function convertToInteractive(key) {\n",
              "        const element = document.querySelector('#df-37c1ddff-f2a5-4135-9bd5-c7344317f240');\n",
              "        const dataTable =\n",
              "          await google.colab.kernel.invokeFunction('convertToInteractive',\n",
              "                                                    [key], {});\n",
              "        if (!dataTable) return;\n",
              "\n",
              "        const docLinkHtml = 'Like what you see? Visit the ' +\n",
              "          '<a target=\"_blank\" href=https://colab.research.google.com/notebooks/data_table.ipynb>data table notebook</a>'\n",
              "          + ' to learn more about interactive tables.';\n",
              "        element.innerHTML = '';\n",
              "        dataTable['output_type'] = 'display_data';\n",
              "        await google.colab.output.renderOutput(dataTable, element);\n",
              "        const docLink = document.createElement('div');\n",
              "        docLink.innerHTML = docLinkHtml;\n",
              "        element.appendChild(docLink);\n",
              "      }\n",
              "    </script>\n",
              "  </div>\n",
              "\n",
              "\n",
              "<div id=\"df-dad112a9-f58f-4f81-b729-2ce8046dfb3f\">\n",
              "  <button class=\"colab-df-quickchart\" onclick=\"quickchart('df-dad112a9-f58f-4f81-b729-2ce8046dfb3f')\"\n",
              "            title=\"Suggest charts.\"\n",
              "            style=\"display:none;\">\n",
              "\n",
              "<svg xmlns=\"http://www.w3.org/2000/svg\" height=\"24px\"viewBox=\"0 0 24 24\"\n",
              "     width=\"24px\">\n",
              "    <g>\n",
              "        <path d=\"M19 3H5c-1.1 0-2 .9-2 2v14c0 1.1.9 2 2 2h14c1.1 0 2-.9 2-2V5c0-1.1-.9-2-2-2zM9 17H7v-7h2v7zm4 0h-2V7h2v10zm4 0h-2v-4h2v4z\"/>\n",
              "    </g>\n",
              "</svg>\n",
              "  </button>\n",
              "\n",
              "<style>\n",
              "  .colab-df-quickchart {\n",
              "      --bg-color: #E8F0FE;\n",
              "      --fill-color: #1967D2;\n",
              "      --hover-bg-color: #E2EBFA;\n",
              "      --hover-fill-color: #174EA6;\n",
              "      --disabled-fill-color: #AAA;\n",
              "      --disabled-bg-color: #DDD;\n",
              "  }\n",
              "\n",
              "  [theme=dark] .colab-df-quickchart {\n",
              "      --bg-color: #3B4455;\n",
              "      --fill-color: #D2E3FC;\n",
              "      --hover-bg-color: #434B5C;\n",
              "      --hover-fill-color: #FFFFFF;\n",
              "      --disabled-bg-color: #3B4455;\n",
              "      --disabled-fill-color: #666;\n",
              "  }\n",
              "\n",
              "  .colab-df-quickchart {\n",
              "    background-color: var(--bg-color);\n",
              "    border: none;\n",
              "    border-radius: 50%;\n",
              "    cursor: pointer;\n",
              "    display: none;\n",
              "    fill: var(--fill-color);\n",
              "    height: 32px;\n",
              "    padding: 0;\n",
              "    width: 32px;\n",
              "  }\n",
              "\n",
              "  .colab-df-quickchart:hover {\n",
              "    background-color: var(--hover-bg-color);\n",
              "    box-shadow: 0 1px 2px rgba(60, 64, 67, 0.3), 0 1px 3px 1px rgba(60, 64, 67, 0.15);\n",
              "    fill: var(--button-hover-fill-color);\n",
              "  }\n",
              "\n",
              "  .colab-df-quickchart-complete:disabled,\n",
              "  .colab-df-quickchart-complete:disabled:hover {\n",
              "    background-color: var(--disabled-bg-color);\n",
              "    fill: var(--disabled-fill-color);\n",
              "    box-shadow: none;\n",
              "  }\n",
              "\n",
              "  .colab-df-spinner {\n",
              "    border: 2px solid var(--fill-color);\n",
              "    border-color: transparent;\n",
              "    border-bottom-color: var(--fill-color);\n",
              "    animation:\n",
              "      spin 1s steps(1) infinite;\n",
              "  }\n",
              "\n",
              "  @keyframes spin {\n",
              "    0% {\n",
              "      border-color: transparent;\n",
              "      border-bottom-color: var(--fill-color);\n",
              "      border-left-color: var(--fill-color);\n",
              "    }\n",
              "    20% {\n",
              "      border-color: transparent;\n",
              "      border-left-color: var(--fill-color);\n",
              "      border-top-color: var(--fill-color);\n",
              "    }\n",
              "    30% {\n",
              "      border-color: transparent;\n",
              "      border-left-color: var(--fill-color);\n",
              "      border-top-color: var(--fill-color);\n",
              "      border-right-color: var(--fill-color);\n",
              "    }\n",
              "    40% {\n",
              "      border-color: transparent;\n",
              "      border-right-color: var(--fill-color);\n",
              "      border-top-color: var(--fill-color);\n",
              "    }\n",
              "    60% {\n",
              "      border-color: transparent;\n",
              "      border-right-color: var(--fill-color);\n",
              "    }\n",
              "    80% {\n",
              "      border-color: transparent;\n",
              "      border-right-color: var(--fill-color);\n",
              "      border-bottom-color: var(--fill-color);\n",
              "    }\n",
              "    90% {\n",
              "      border-color: transparent;\n",
              "      border-bottom-color: var(--fill-color);\n",
              "    }\n",
              "  }\n",
              "</style>\n",
              "\n",
              "  <script>\n",
              "    async function quickchart(key) {\n",
              "      const quickchartButtonEl =\n",
              "        document.querySelector('#' + key + ' button');\n",
              "      quickchartButtonEl.disabled = true;  // To prevent multiple clicks.\n",
              "      quickchartButtonEl.classList.add('colab-df-spinner');\n",
              "      try {\n",
              "        const charts = await google.colab.kernel.invokeFunction(\n",
              "            'suggestCharts', [key], {});\n",
              "      } catch (error) {\n",
              "        console.error('Error during call to suggestCharts:', error);\n",
              "      }\n",
              "      quickchartButtonEl.classList.remove('colab-df-spinner');\n",
              "      quickchartButtonEl.classList.add('colab-df-quickchart-complete');\n",
              "    }\n",
              "    (() => {\n",
              "      let quickchartButtonEl =\n",
              "        document.querySelector('#df-dad112a9-f58f-4f81-b729-2ce8046dfb3f button');\n",
              "      quickchartButtonEl.style.display =\n",
              "        google.colab.kernel.accessAllowed ? 'block' : 'none';\n",
              "    })();\n",
              "  </script>\n",
              "</div>\n",
              "    </div>\n",
              "  </div>\n"
            ]
          },
          "metadata": {},
          "execution_count": 4
        }
      ]
    },
    {
      "cell_type": "code",
      "source": [
        "dataframe = dataframe.drop(['club_team_id','club_name','league_name','club_jersey_number','nation_jersey_number','preferred_foot','work_rate','body_type','player_tags','player_traits','sofifa_id','short_name'],axis=1)"
      ],
      "metadata": {
        "id": "PcAnEjZcfJCm"
      },
      "execution_count": 5,
      "outputs": []
    },
    {
      "cell_type": "code",
      "source": [
        "dataframe.info()"
      ],
      "metadata": {
        "colab": {
          "base_uri": "https://localhost:8080/"
        },
        "id": "vrROMah3hAQj",
        "outputId": "740cfad8-e63c-46e6-f107-51f58a387f15"
      },
      "execution_count": null,
      "outputs": [
        {
          "output_type": "stream",
          "name": "stdout",
          "text": [
            "<class 'pandas.core.frame.DataFrame'>\n",
            "RangeIndex: 7772 entries, 0 to 7771\n",
            "Data columns (total 54 columns):\n",
            " #   Column                       Non-Null Count  Dtype  \n",
            "---  ------                       --------------  -----  \n",
            " 0   overall                      7772 non-null   int64  \n",
            " 1   potential                    7772 non-null   int64  \n",
            " 2   value_eur                    7706 non-null   float64\n",
            " 3   wage_eur                     7711 non-null   float64\n",
            " 4   age                          7772 non-null   int64  \n",
            " 5   height_cm                    7772 non-null   int64  \n",
            " 6   weight_kg                    7772 non-null   int64  \n",
            " 7   league_level                 7711 non-null   float64\n",
            " 8   weak_foot                    7772 non-null   int64  \n",
            " 9   skill_moves                  7772 non-null   int64  \n",
            " 10  international_reputation     7772 non-null   int64  \n",
            " 11  release_clause_eur           7306 non-null   float64\n",
            " 12  pace                         7063 non-null   float64\n",
            " 13  shooting                     7063 non-null   float64\n",
            " 14  passing                      7063 non-null   float64\n",
            " 15  dribbling                    7063 non-null   float64\n",
            " 16  defending                    7063 non-null   float64\n",
            " 17  physic                       7063 non-null   float64\n",
            " 18  attacking_crossing           7772 non-null   int64  \n",
            " 19  attacking_finishing          7772 non-null   int64  \n",
            " 20  attacking_heading_accuracy   7772 non-null   int64  \n",
            " 21  attacking_short_passing      7772 non-null   int64  \n",
            " 22  attacking_volleys            7772 non-null   int64  \n",
            " 23  skill_dribbling              7772 non-null   int64  \n",
            " 24  skill_curve                  7772 non-null   int64  \n",
            " 25  skill_fk_accuracy            7772 non-null   int64  \n",
            " 26  skill_long_passing           7772 non-null   int64  \n",
            " 27  skill_ball_control           7772 non-null   int64  \n",
            " 28  movement_acceleration        7772 non-null   int64  \n",
            " 29  movement_sprint_speed        7772 non-null   int64  \n",
            " 30  movement_agility             7772 non-null   int64  \n",
            " 31  movement_reactions           7772 non-null   int64  \n",
            " 32  movement_balance             7772 non-null   int64  \n",
            " 33  power_shot_power             7772 non-null   int64  \n",
            " 34  power_jumping                7772 non-null   int64  \n",
            " 35  power_stamina                7772 non-null   int64  \n",
            " 36  power_strength               7772 non-null   int64  \n",
            " 37  power_long_shots             7772 non-null   int64  \n",
            " 38  mentality_aggression         7772 non-null   int64  \n",
            " 39  mentality_interceptions      7772 non-null   int64  \n",
            " 40  mentality_positioning        7772 non-null   int64  \n",
            " 41  mentality_vision             7772 non-null   int64  \n",
            " 42  mentality_penalties          7772 non-null   int64  \n",
            " 43  mentality_composure          7772 non-null   int64  \n",
            " 44  defending_marking_awareness  7772 non-null   int64  \n",
            " 45  defending_standing_tackle    7772 non-null   int64  \n",
            " 46  defending_sliding_tackle     7772 non-null   int64  \n",
            " 47  goalkeeping_diving           7772 non-null   int64  \n",
            " 48  goalkeeping_handling         7772 non-null   int64  \n",
            " 49  goalkeeping_kicking          7772 non-null   int64  \n",
            " 50  goalkeeping_positioning      7772 non-null   int64  \n",
            " 51  goalkeeping_reflexes         7772 non-null   int64  \n",
            " 52  goalkeeping_speed            709 non-null    float64\n",
            " 53  contribution_type            7772 non-null   int64  \n",
            "dtypes: float64(11), int64(43)\n",
            "memory usage: 3.2 MB\n"
          ]
        }
      ]
    },
    {
      "cell_type": "code",
      "source": [
        "median_value = dataframe['value_eur'].median()\n",
        "dataframe['value_eur'].fillna(value=median_value,inplace=True)\n",
        "\n",
        "median_value = dataframe['wage_eur'].median()\n",
        "dataframe['wage_eur'].fillna(value=median_value,inplace=True)\n",
        "\n",
        "median_value = dataframe['league_level'].median()\n",
        "dataframe['league_level'].fillna(value=median_value,inplace=True)\n",
        "\n",
        "median_value = dataframe['release_clause_eur'].median()\n",
        "dataframe['release_clause_eur'].fillna(value=median_value,inplace=True)\n",
        "\n",
        "median_value = dataframe['pace'].median()\n",
        "dataframe['pace'].fillna(value=median_value,inplace=True)\n",
        "\n",
        "median_value = dataframe['shooting'].median()\n",
        "dataframe['shooting'].fillna(value=median_value,inplace=True)\n",
        "\n",
        "median_value = dataframe['passing'].median()\n",
        "dataframe['passing'].fillna(value=median_value,inplace=True)\n",
        "\n",
        "median_value = dataframe['dribbling'].median()\n",
        "dataframe['dribbling'].fillna(value=median_value,inplace=True)\n",
        "\n",
        "median_value = dataframe['defending'].median()\n",
        "dataframe['defending'].fillna(value=median_value,inplace=True)\n",
        "\n",
        "median_value = dataframe['physic'].median()\n",
        "dataframe['physic'].fillna(value=median_value,inplace=True)\n",
        "\n",
        "median_value = dataframe['goalkeeping_speed'].median()\n",
        "dataframe['goalkeeping_speed'].fillna(value=median_value,inplace=True)\n"
      ],
      "metadata": {
        "id": "r0e3MY4Gfjoa"
      },
      "execution_count": 6,
      "outputs": []
    },
    {
      "cell_type": "code",
      "source": [
        "dataframe.info()"
      ],
      "metadata": {
        "colab": {
          "base_uri": "https://localhost:8080/"
        },
        "id": "frgf9VvPhI7K",
        "outputId": "394ea6b6-5a1b-4126-cfd7-9598ec6be59a"
      },
      "execution_count": 7,
      "outputs": [
        {
          "output_type": "stream",
          "name": "stdout",
          "text": [
            "<class 'pandas.core.frame.DataFrame'>\n",
            "RangeIndex: 7772 entries, 0 to 7771\n",
            "Data columns (total 54 columns):\n",
            " #   Column                       Non-Null Count  Dtype  \n",
            "---  ------                       --------------  -----  \n",
            " 0   overall                      7772 non-null   int64  \n",
            " 1   potential                    7772 non-null   int64  \n",
            " 2   value_eur                    7772 non-null   float64\n",
            " 3   wage_eur                     7772 non-null   float64\n",
            " 4   age                          7772 non-null   int64  \n",
            " 5   height_cm                    7772 non-null   int64  \n",
            " 6   weight_kg                    7772 non-null   int64  \n",
            " 7   league_level                 7772 non-null   float64\n",
            " 8   weak_foot                    7772 non-null   int64  \n",
            " 9   skill_moves                  7772 non-null   int64  \n",
            " 10  international_reputation     7772 non-null   int64  \n",
            " 11  release_clause_eur           7772 non-null   float64\n",
            " 12  pace                         7772 non-null   float64\n",
            " 13  shooting                     7772 non-null   float64\n",
            " 14  passing                      7772 non-null   float64\n",
            " 15  dribbling                    7772 non-null   float64\n",
            " 16  defending                    7772 non-null   float64\n",
            " 17  physic                       7772 non-null   float64\n",
            " 18  attacking_crossing           7772 non-null   int64  \n",
            " 19  attacking_finishing          7772 non-null   int64  \n",
            " 20  attacking_heading_accuracy   7772 non-null   int64  \n",
            " 21  attacking_short_passing      7772 non-null   int64  \n",
            " 22  attacking_volleys            7772 non-null   int64  \n",
            " 23  skill_dribbling              7772 non-null   int64  \n",
            " 24  skill_curve                  7772 non-null   int64  \n",
            " 25  skill_fk_accuracy            7772 non-null   int64  \n",
            " 26  skill_long_passing           7772 non-null   int64  \n",
            " 27  skill_ball_control           7772 non-null   int64  \n",
            " 28  movement_acceleration        7772 non-null   int64  \n",
            " 29  movement_sprint_speed        7772 non-null   int64  \n",
            " 30  movement_agility             7772 non-null   int64  \n",
            " 31  movement_reactions           7772 non-null   int64  \n",
            " 32  movement_balance             7772 non-null   int64  \n",
            " 33  power_shot_power             7772 non-null   int64  \n",
            " 34  power_jumping                7772 non-null   int64  \n",
            " 35  power_stamina                7772 non-null   int64  \n",
            " 36  power_strength               7772 non-null   int64  \n",
            " 37  power_long_shots             7772 non-null   int64  \n",
            " 38  mentality_aggression         7772 non-null   int64  \n",
            " 39  mentality_interceptions      7772 non-null   int64  \n",
            " 40  mentality_positioning        7772 non-null   int64  \n",
            " 41  mentality_vision             7772 non-null   int64  \n",
            " 42  mentality_penalties          7772 non-null   int64  \n",
            " 43  mentality_composure          7772 non-null   int64  \n",
            " 44  defending_marking_awareness  7772 non-null   int64  \n",
            " 45  defending_standing_tackle    7772 non-null   int64  \n",
            " 46  defending_sliding_tackle     7772 non-null   int64  \n",
            " 47  goalkeeping_diving           7772 non-null   int64  \n",
            " 48  goalkeeping_handling         7772 non-null   int64  \n",
            " 49  goalkeeping_kicking          7772 non-null   int64  \n",
            " 50  goalkeeping_positioning      7772 non-null   int64  \n",
            " 51  goalkeeping_reflexes         7772 non-null   int64  \n",
            " 52  goalkeeping_speed            7772 non-null   float64\n",
            " 53  contribution_type            7772 non-null   int64  \n",
            "dtypes: float64(11), int64(43)\n",
            "memory usage: 3.2 MB\n"
          ]
        }
      ]
    },
    {
      "cell_type": "markdown",
      "source": [
        "***a) Classification***"
      ],
      "metadata": {
        "id": "7L5CE3qv2uCp"
      }
    },
    {
      "cell_type": "code",
      "source": [
        "import numpy as np\n",
        "import pandas as pd\n",
        "from sklearn.model_selection import train_test_split\n",
        "from sklearn.preprocessing import LabelEncoder\n",
        "from sklearn.ensemble import RandomForestClassifier, RandomForestRegressor\n",
        "from sklearn.metrics import accuracy_score, f1_score, mean_squared_error, mean_absolute_error"
      ],
      "metadata": {
        "id": "RocUc6u52-9y"
      },
      "execution_count": 9,
      "outputs": []
    },
    {
      "cell_type": "code",
      "source": [
        "X = dataframe.drop('contribution_type', axis=1)\n",
        "Y = dataframe['contribution_type']\n",
        "\n",
        "# Computing the target variable\n",
        "label_encoder = LabelEncoder()\n",
        "Y = label_encoder.fit_transform(Y)\n",
        "\n",
        "# Split the classification data\n",
        "X_train, X_test, Y_train, Y_test = train_test_split(X, Y, test_size=0.2, random_state=42)\n",
        "\n",
        "# Initializing and training the Random Forest classifiers for classification\n",
        "crit = ['gini', 'entropy', 'log_loss']\n",
        "no_of_decision_trees = [25,50,100,200,400,800,1600,3200]\n",
        "\n",
        "#Classification with gini criterion:\n",
        "list1=[]\n",
        "for n in no_of_decision_trees:\n",
        "     c = RandomForestClassifier(n_estimators=n, criterion=crit[0], random_state=101,oob_score=True)\n",
        "     c.fit(X_train, Y_train)\n",
        "     list1.append(c.oob_score_)\n",
        "\n",
        "esti = no_of_decision_trees[list1.index(max(list1))]\n",
        "c = RandomForestClassifier(n_estimators=esti, criterion=crit[0], random_state=101)\n",
        "c.fit(X_train, Y_train)\n",
        "Y_pred = c.predict(X_test)\n",
        "\n",
        "acc= accuracy_score(Y_test, Y_pred)\n",
        "f = f1_score(Y_test, Y_pred, average='weighted')\n",
        "\n",
        "print(f\"Classification with {crit[0]} criterion:\")\n",
        "print(f\"Accuracy: {acc:.4f}\")\n",
        "print(f\"F1 Score: {f:.4f}\")\n",
        "print(\"\\n\")"
      ],
      "metadata": {
        "colab": {
          "base_uri": "https://localhost:8080/"
        },
        "id": "nk9IjqfQ3R9L",
        "outputId": "44d219ce-951d-45da-e490-c44f8df43bab"
      },
      "execution_count": null,
      "outputs": [
        {
          "output_type": "stream",
          "name": "stderr",
          "text": [
            "/usr/local/lib/python3.10/dist-packages/sklearn/ensemble/_forest.py:583: UserWarning: Some inputs do not have OOB scores. This probably means too few trees were used to compute any reliable OOB estimates.\n",
            "  warn(\n"
          ]
        },
        {
          "output_type": "stream",
          "name": "stdout",
          "text": [
            "Classification with gini criterion:\n",
            "Accuracy: 0.8965\n",
            "F1 Score: 0.8962\n",
            "\n",
            "\n"
          ]
        }
      ]
    },
    {
      "cell_type": "code",
      "source": [
        "plt.plot(no_of_decision_trees, list1)\n",
        "plt.xlabel(\"Number of Trees\")\n",
        "plt.ylabel(\"OOB Score\")\n",
        "plt.show()"
      ],
      "metadata": {
        "colab": {
          "base_uri": "https://localhost:8080/",
          "height": 449
        },
        "id": "gd0bDL3HD5JB",
        "outputId": "16b1d010-f088-4933-9830-dbdca0d0f5f4"
      },
      "execution_count": null,
      "outputs": [
        {
          "output_type": "display_data",
          "data": {
            "text/plain": [
              "<Figure size 640x480 with 1 Axes>"
            ],
            "image/png": "[encoded data removed]"
          },
          "metadata": {}
        }
      ]
    },
    {
      "cell_type": "code",
      "source": [
        "X = dataframe.drop('contribution_type', axis=1)\n",
        "Y = dataframe['contribution_type']\n",
        "\n",
        "# Computing the target variable\n",
        "label_encoder = LabelEncoder()\n",
        "Y = label_encoder.fit_transform(Y)\n",
        "\n",
        "# Split the classification data\n",
        "X_train, X_test, Y_train, Y_test = train_test_split(X, Y, test_size=0.2, random_state=42)\n",
        "\n",
        "# Initializing and training the Random Forest classifiers for classification\n",
        "crit = ['gini', 'entropy', 'log_loss']\n",
        "no_of_decision_trees = [25,50,100,200,400,800,1600,3200]\n",
        "\n",
        "#Classification with entropy criterion:\n",
        "list1=[]\n",
        "for n in no_of_decision_trees:\n",
        "     c = RandomForestClassifier(n_estimators=n, criterion=crit[1], random_state=101,oob_score=True)\n",
        "     c.fit(X_train, Y_train)\n",
        "     list1.append(c.oob_score_)\n",
        "\n",
        "esti = no_of_decision_trees[list1.index(max(list1))]\n",
        "c = RandomForestClassifier(n_estimators=esti, criterion=crit[1], random_state=101)\n",
        "c.fit(X_train, Y_train)\n",
        "Y_pred = c.predict(X_test)\n",
        "\n",
        "acc= accuracy_score(Y_test, Y_pred)\n",
        "f = f1_score(Y_test, Y_pred, average='weighted')\n",
        "\n",
        "print(f\"Classification with {crit[1]} criterion:\")\n",
        "print(f\"Accuracy: {acc:.4f}\")\n",
        "print(f\"F1 Score: {f:.4f}\")\n",
        "print(\"\\n\")"
      ],
      "metadata": {
        "colab": {
          "base_uri": "https://localhost:8080/"
        },
        "outputId": "9b5b4f4e-8f0c-426c-bac0-3eea191bcc10",
        "id": "Vr2gM6MgElbU"
      },
      "execution_count": null,
      "outputs": [
        {
          "output_type": "stream",
          "name": "stderr",
          "text": [
            "/usr/local/lib/python3.10/dist-packages/sklearn/ensemble/_forest.py:583: UserWarning: Some inputs do not have OOB scores. This probably means too few trees were used to compute any reliable OOB estimates.\n",
            "  warn(\n"
          ]
        },
        {
          "output_type": "stream",
          "name": "stdout",
          "text": [
            "Classification with entropy criterion:\n",
            "Accuracy: 0.8984\n",
            "F1 Score: 0.8981\n",
            "\n",
            "\n"
          ]
        }
      ]
    },
    {
      "cell_type": "code",
      "source": [
        "plt.plot(no_of_decision_trees, list1)\n",
        "plt.xlabel(\"Number of Trees\")\n",
        "plt.ylabel(\"OOB Score\")\n",
        "plt.show()"
      ],
      "metadata": {
        "colab": {
          "base_uri": "https://localhost:8080/",
          "height": 449
        },
        "outputId": "34c2a50f-948e-45c9-d145-19cbeebde6ab",
        "id": "qPA1JMffGvHT"
      },
      "execution_count": null,
      "outputs": [
        {
          "output_type": "display_data",
          "data": {
            "text/plain": [
              "<Figure size 640x480 with 1 Axes>"
            ],
            "image/png": "[encoded data removed]"
          },
          "metadata": {}
        }
      ]
    },
    {
      "cell_type": "code",
      "source": [],
      "metadata": {
        "id": "faCbiXGxHNdN"
      },
      "execution_count": null,
      "outputs": []
    },
    {
      "cell_type": "code",
      "source": [
        "X = dataframe.drop('contribution_type', axis=1)\n",
        "Y = dataframe['contribution_type']\n",
        "\n",
        "# Computing the target variable\n",
        "label_encoder = LabelEncoder()\n",
        "Y = label_encoder.fit_transform(Y)\n",
        "\n",
        "# Split the classification data\n",
        "X_train, X_test, Y_train, Y_test = train_test_split(X, Y, test_size=0.2, random_state=42)\n",
        "\n",
        "# Initializing and training the Random Forest classifiers for classification\n",
        "crit = ['gini', 'entropy', 'log_loss']\n",
        "no_of_decision_trees = [25,50,100,200,400,800,1600,3200]\n",
        "\n",
        "#Classification with log_loss criterion:\n",
        "list1=[]\n",
        "for n in no_of_decision_trees:\n",
        "     c = RandomForestClassifier(n_estimators=n, criterion=crit[2], random_state=101,oob_score=True)\n",
        "     c.fit(X_train, Y_train)\n",
        "     list1.append(c.oob_score_)\n",
        "\n",
        "esti = no_of_decision_trees[list1.index(max(list1))]\n",
        "c = RandomForestClassifier(n_estimators=esti, criterion=crit[2], random_state=101)\n",
        "c.fit(X_train, Y_train)\n",
        "Y_pred = c.predict(X_test)\n",
        "\n",
        "acc= accuracy_score(Y_test, Y_pred)\n",
        "f = f1_score(Y_test, Y_pred, average='weighted')\n",
        "\n",
        "print(f\"Classification with {crit[2]} criterion:\")\n",
        "print(f\"Accuracy: {acc:.4f}\")\n",
        "print(f\"F1 Score: {f:.4f}\")\n",
        "print(\"\\n\")"
      ],
      "metadata": {
        "colab": {
          "base_uri": "https://localhost:8080/"
        },
        "outputId": "7f15c19d-ca0d-4edb-c78d-fda99b1143d2",
        "id": "O2ztSo6FHN1u"
      },
      "execution_count": null,
      "outputs": [
        {
          "output_type": "stream",
          "name": "stderr",
          "text": [
            "/usr/local/lib/python3.10/dist-packages/sklearn/ensemble/_forest.py:583: UserWarning: Some inputs do not have OOB scores. This probably means too few trees were used to compute any reliable OOB estimates.\n",
            "  warn(\n"
          ]
        },
        {
          "output_type": "stream",
          "name": "stdout",
          "text": [
            "Classification with log_loss criterion:\n",
            "Accuracy: 0.8984\n",
            "F1 Score: 0.8981\n",
            "\n",
            "\n"
          ]
        }
      ]
    },
    {
      "cell_type": "code",
      "source": [],
      "metadata": {
        "id": "VhCdEiJQILjY"
      },
      "execution_count": null,
      "outputs": []
    },
    {
      "cell_type": "code",
      "source": [
        "plt.plot(no_of_decision_trees, list1)\n",
        "plt.xlabel(\"Number of Trees\")\n",
        "plt.ylabel(\"OOB Score\")\n",
        "plt.show()"
      ],
      "metadata": {
        "colab": {
          "base_uri": "https://localhost:8080/",
          "height": 449
        },
        "outputId": "d510ec49-078a-4470-e5b5-3ec19de8c93a",
        "id": "C2m8uhiWIMAl"
      },
      "execution_count": null,
      "outputs": [
        {
          "output_type": "display_data",
          "data": {
            "text/plain": [
              "<Figure size 640x480 with 1 Axes>"
            ],
            "image/png": "[encoded data removed]"
          },
          "metadata": {}
        }
      ]
    },
    {
      "cell_type": "markdown",
      "source": [
        " ***b) Regression***"
      ],
      "metadata": {
        "id": "Yoe6W_nj6Zcc"
      }
    },
    {
      "cell_type": "code",
      "source": [
        "X1 = dataframe.drop('overall', axis=1)\n",
        "Y1 = dataframe['overall']\n",
        "\n",
        "# Split the regression data\n",
        "X1_train, X1_test, Y1_train, Y1_test = train_test_split(X1, Y1, test_size=0.2, random_state=101)\n",
        "\n",
        "# Initializing and training the Random Forest regressors\n",
        "crit = ['squared_error', 'absolute_error']\n",
        "no_of_decision_trees = [25,50,50,70,80,110,120]\n",
        "#Regression with MSE criterion:\n",
        "list1=[]\n",
        "for o in no_of_decision_trees :\n",
        "        r = RandomForestRegressor(n_estimators=o, criterion=crit[0], random_state=42,oob_score=True)\n",
        "        r.fit(X1_train, Y1_train)\n",
        "        list1.append(r.oob_score_)\n",
        "best_estim = no_of_decision_trees[list1.index(max(list1))]\n",
        "reg = RandomForestRegressor(n_estimators=best_estim, criterion=crit[0], random_state=42,oob_score=True)\n",
        "reg.fit(X1_train, Y1_train)\n",
        "Y1_pred = r.predict(X1_test)\n",
        "mse = mean_squared_error(Y1_test, Y1_pred)\n",
        "print(f\"Regression with MSE criterion:\")\n",
        "print(f\"Mean Squared Error (MSE): {mse:.4f}\")\n",
        "\n"
      ],
      "metadata": {
        "colab": {
          "base_uri": "https://localhost:8080/"
        },
        "id": "bbIC7wo36han",
        "outputId": "e2983782-4a11-4166-acc0-b8eb0e92afd7"
      },
      "execution_count": 10,
      "outputs": [
        {
          "output_type": "stream",
          "name": "stdout",
          "text": [
            "Regression with MSE criterion:\n",
            "Mean Squared Error (MSE): 0.2950\n"
          ]
        }
      ]
    },
    {
      "cell_type": "code",
      "source": [
        "plt.plot(no_of_decision_trees, list1)\n",
        "plt.xlabel(\"Number of Trees\")\n",
        "plt.ylabel(\"OOB Score\")\n",
        "plt.show()"
      ],
      "metadata": {
        "colab": {
          "base_uri": "https://localhost:8080/",
          "height": 449
        },
        "id": "2lkB3P1ZQXKp",
        "outputId": "710c7ba8-4105-4699-a30f-9dbd8ad47357"
      },
      "execution_count": 11,
      "outputs": [
        {
          "output_type": "display_data",
          "data": {
            "text/plain": [
              "<Figure size 640x480 with 1 Axes>"
            ],
            "image/png": "[encoded data removed]"
          },
          "metadata": {}
        }
      ]
    },
    {
      "cell_type": "code",
      "source": [
        "X1 = dataframe.drop('overall', axis=1)\n",
        "Y1 = dataframe['overall']\n",
        "\n",
        "# Split the regression data\n",
        "X1_train, X1_test, Y1_train, Y1_test = train_test_split(X1, Y1, test_size=0.2, random_state=100)\n",
        "\n",
        "# Initializing and training the Random Forest regressors\n",
        "crit = ['squared_error', 'absolute_error']\n",
        "no_of_decision_trees = [25,50,50,70,80,110,120]\n",
        "#Regression with MAE criterion:\n",
        "list1=[]\n",
        "for o in no_of_decision_trees :\n",
        "        r = RandomForestRegressor(n_estimators=o, criterion=crit[1], random_state=42,oob_score=True)\n",
        "        r.fit(X1_train, Y1_train)\n",
        "        list1.append(r.oob_score_)\n",
        "best_estim = no_of_decision_trees[list1.index(max(list1))]\n",
        "reg = RandomForestRegressor(n_estimators=best_estim, criterion=crit[0], random_state=42,oob_score=True)\n",
        "reg.fit(X1_train, Y1_train)\n",
        "Y1_pred = r.predict(X1_test)\n",
        "mse = mean_squared_error(Y1_test, Y1_pred)\n",
        "print(f\"Regression with MAE criterion:\")\n",
        "print(f\"Mean Absolute Error (MAE): {mse:.4f}\")\n",
        "\n"
      ],
      "metadata": {
        "colab": {
          "base_uri": "https://localhost:8080/"
        },
        "outputId": "b9ad26f3-332d-4e15-ad21-a08dbb210006",
        "id": "VTuh21X6Rqjj"
      },
      "execution_count": null,
      "outputs": [
        {
          "output_type": "stream",
          "name": "stdout",
          "text": [
            "Regression with MAE criterion:\n",
            "Mean Absolute Error (MAE): 0.3195\n"
          ]
        }
      ]
    },
    {
      "cell_type": "code",
      "source": [
        "plt.plot(no_of_decision_trees, list1)\n",
        "plt.xlabel(\"Number of Trees\")\n",
        "plt.ylabel(\"OOB Score\")\n",
        "plt.show()"
      ],
      "metadata": {
        "colab": {
          "base_uri": "https://localhost:8080/",
          "height": 449
        },
        "outputId": "4472a66d-ed96-48f7-aa70-98355183c120",
        "id": "HTyRpOv6jiZN"
      },
      "execution_count": null,
      "outputs": [
        {
          "output_type": "display_data",
          "data": {
            "text/plain": [
              "<Figure size 640x480 with 1 Axes>"
            ],
            "image/png": "[encoded data removed]"
          },
          "metadata": {}
        }
      ]
    }
  ]
}