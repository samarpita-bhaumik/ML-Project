{
  "nbformat": 4,
  "nbformat_minor": 0,
  "metadata": {
    "colab": {
      "provenance": []
    },
    "kernelspec": {
      "name": "python3",
      "display_name": "Python 3"
    },
    "language_info": {
      "name": "python"
    }
  },
  "cells": [
    {
      "cell_type": "markdown",
      "source": [
        "**1. Linear regression and Regularization:**\n",
        "\n",
        " ***(a) Predict the “Overall” (target attribute: “overall”) rating of the players using Linear\n",
        "regression report the Mean Absolute Error(MAE), Mean Square Error(MSE), R2 score.***\n",
        "\n",
        " ***(b) Compare the performance of linear regression, Ridge regression, and Lasso regression\n",
        "models. Perform the hyperparameters tuning and observe how they affect the model’s\n",
        "bias-variance trade-off, investigate the impact of the Lasso regularisation parameter on\n",
        "this feature selection process.***\n",
        "\n",
        " ***Note: Please carry out the necessary data preprocessing and test-train split as 20 : 80%.\n",
        "The use of the scikit-learn library is allowed for this question. For (b), include necessary\n",
        "metrics like MSE, MAE, R2 Score for performance analysis and necessary plots (Ex:\n",
        "Scatter plots/line plots) for hyperparameters tuning.***"
      ],
      "metadata": {
        "id": "gamlAerJ2zB6"
      }
    },
    {
      "cell_type": "code",
      "execution_count": null,
      "metadata": {
        "id": "RDZi1yG4S0PV"
      },
      "outputs": [],
      "source": [
        "import csv\n",
        "def load_data(filename):\n",
        "    dataset = []\n",
        "    csvfile = open(filename, newline = '')\n",
        "    reader = csv.reader(csvfile)\n",
        "    for i in reader:\n",
        "        dataset.append(i)\n",
        "    return dataset"
      ]
    },
    {
      "cell_type": "code",
      "source": [
        "from google.colab import drive\n",
        "\n",
        "drive.mount('/content/drive')"
      ],
      "metadata": {
        "colab": {
          "base_uri": "https://localhost:8080/"
        },
        "id": "twrsKeCEWBz8",
        "outputId": "1b206355-876d-4ee1-8425-3d2d1790f67f"
      },
      "execution_count": null,
      "outputs": [
        {
          "output_type": "stream",
          "name": "stdout",
          "text": [
            "Mounted at /content/drive\n"
          ]
        }
      ]
    },
    {
      "cell_type": "code",
      "source": [
        "import pandas as pd\n",
        "import numpy as np\n",
        "import matplotlib.pyplot as plt\n",
        "from mlxtend.evaluate import bias_variance_decomp\n",
        "\n",
        "path_link = \"/content/drive/MyDrive/ML_assignment/football.csv\"\n",
        "dataframe = pd.read_csv(path_link)\n",
        "dataframe.head()"
      ],
      "metadata": {
        "colab": {
          "base_uri": "https://localhost:8080/",
          "height": 290
        },
        "id": "_7zXhtDDWMel",
        "outputId": "01a23e75-c5bb-4fb8-dcd4-f085102ad253"
      },
      "execution_count": null,
      "outputs": [
        {
          "output_type": "execute_result",
          "data": {
            "text/plain": [
              "   sofifa_id         short_name  overall  potential    value_eur  wage_eur  \\\n",
              "0     158023           L. Messi       93         93   78000000.0  320000.0   \n",
              "1     188545     R. Lewandowski       92         92  119500000.0  270000.0   \n",
              "2      20801  Cristiano Ronaldo       91         91   45000000.0  270000.0   \n",
              "3     190871          Neymar Jr       91         91  129000000.0  270000.0   \n",
              "4     192985       K. De Bruyne       91         91  125500000.0  350000.0   \n",
              "\n",
              "   age  height_cm  weight_kg  club_team_id  ... defending_marking_awareness  \\\n",
              "0   34        170         72          73.0  ...                          20   \n",
              "1   32        185         81          21.0  ...                          35   \n",
              "2   36        187         83          11.0  ...                          24   \n",
              "3   29        175         68          73.0  ...                          35   \n",
              "4   30        181         70          10.0  ...                          68   \n",
              "\n",
              "  defending_standing_tackle  defending_sliding_tackle  goalkeeping_diving  \\\n",
              "0                        35                        24                   6   \n",
              "1                        42                        19                  15   \n",
              "2                        32                        24                   7   \n",
              "3                        32                        29                   9   \n",
              "4                        65                        53                  15   \n",
              "\n",
              "   goalkeeping_handling goalkeeping_kicking  goalkeeping_positioning  \\\n",
              "0                    11                  15                       14   \n",
              "1                     6                  12                        8   \n",
              "2                    11                  15                       14   \n",
              "3                     9                  15                       15   \n",
              "4                    13                   5                       10   \n",
              "\n",
              "   goalkeeping_reflexes  goalkeeping_speed contribution_type  \n",
              "0                     8                NaN                 1  \n",
              "1                    10                NaN                 1  \n",
              "2                    11                NaN                 1  \n",
              "3                    11                NaN                 1  \n",
              "4                    13                NaN                 1  \n",
              "\n",
              "[5 rows x 66 columns]"
            ],
            "text/html": [
              "\n",
              "  <div id=\"df-f41e3bf3-c9d1-4124-807f-c6d401db11e5\" class=\"colab-df-container\">\n",
              "    <div>\n",
              "<style scoped>\n",
              "    .dataframe tbody tr th:only-of-type {\n",
              "        vertical-align: middle;\n",
              "    }\n",
              "\n",
              "    .dataframe tbody tr th {\n",
              "        vertical-align: top;\n",
              "    }\n",
              "\n",
              "    .dataframe thead th {\n",
              "        text-align: right;\n",
              "    }\n",
              "</style>\n",
              "<table border=\"1\" class=\"dataframe\">\n",
              "  <thead>\n",
              "    <tr style=\"text-align: right;\">\n",
              "      <th></th>\n",
              "      <th>sofifa_id</th>\n",
              "      <th>short_name</th>\n",
              "      <th>overall</th>\n",
              "      <th>potential</th>\n",
              "      <th>value_eur</th>\n",
              "      <th>wage_eur</th>\n",
              "      <th>age</th>\n",
              "      <th>height_cm</th>\n",
              "      <th>weight_kg</th>\n",
              "      <th>club_team_id</th>\n",
              "      <th>...</th>\n",
              "      <th>defending_marking_awareness</th>\n",
              "      <th>defending_standing_tackle</th>\n",
              "      <th>defending_sliding_tackle</th>\n",
              "      <th>goalkeeping_diving</th>\n",
              "      <th>goalkeeping_handling</th>\n",
              "      <th>goalkeeping_kicking</th>\n",
              "      <th>goalkeeping_positioning</th>\n",
              "      <th>goalkeeping_reflexes</th>\n",
              "      <th>goalkeeping_speed</th>\n",
              "      <th>contribution_type</th>\n",
              "    </tr>\n",
              "  </thead>\n",
              "  <tbody>\n",
              "    <tr>\n",
              "      <th>0</th>\n",
              "      <td>158023</td>\n",
              "      <td>L. Messi</td>\n",
              "      <td>93</td>\n",
              "      <td>93</td>\n",
              "      <td>78000000.0</td>\n",
              "      <td>320000.0</td>\n",
              "      <td>34</td>\n",
              "      <td>170</td>\n",
              "      <td>72</td>\n",
              "      <td>73.0</td>\n",
              "      <td>...</td>\n",
              "      <td>20</td>\n",
              "      <td>35</td>\n",
              "      <td>24</td>\n",
              "      <td>6</td>\n",
              "      <td>11</td>\n",
              "      <td>15</td>\n",
              "      <td>14</td>\n",
              "      <td>8</td>\n",
              "      <td>NaN</td>\n",
              "      <td>1</td>\n",
              "    </tr>\n",
              "    <tr>\n",
              "      <th>1</th>\n",
              "      <td>188545</td>\n",
              "      <td>R. Lewandowski</td>\n",
              "      <td>92</td>\n",
              "      <td>92</td>\n",
              "      <td>119500000.0</td>\n",
              "      <td>270000.0</td>\n",
              "      <td>32</td>\n",
              "      <td>185</td>\n",
              "      <td>81</td>\n",
              "      <td>21.0</td>\n",
              "      <td>...</td>\n",
              "      <td>35</td>\n",
              "      <td>42</td>\n",
              "      <td>19</td>\n",
              "      <td>15</td>\n",
              "      <td>6</td>\n",
              "      <td>12</td>\n",
              "      <td>8</td>\n",
              "      <td>10</td>\n",
              "      <td>NaN</td>\n",
              "      <td>1</td>\n",
              "    </tr>\n",
              "    <tr>\n",
              "      <th>2</th>\n",
              "      <td>20801</td>\n",
              "      <td>Cristiano Ronaldo</td>\n",
              "      <td>91</td>\n",
              "      <td>91</td>\n",
              "      <td>45000000.0</td>\n",
              "      <td>270000.0</td>\n",
              "      <td>36</td>\n",
              "      <td>187</td>\n",
              "      <td>83</td>\n",
              "      <td>11.0</td>\n",
              "      <td>...</td>\n",
              "      <td>24</td>\n",
              "      <td>32</td>\n",
              "      <td>24</td>\n",
              "      <td>7</td>\n",
              "      <td>11</td>\n",
              "      <td>15</td>\n",
              "      <td>14</td>\n",
              "      <td>11</td>\n",
              "      <td>NaN</td>\n",
              "      <td>1</td>\n",
              "    </tr>\n",
              "    <tr>\n",
              "      <th>3</th>\n",
              "      <td>190871</td>\n",
              "      <td>Neymar Jr</td>\n",
              "      <td>91</td>\n",
              "      <td>91</td>\n",
              "      <td>129000000.0</td>\n",
              "      <td>270000.0</td>\n",
              "      <td>29</td>\n",
              "      <td>175</td>\n",
              "      <td>68</td>\n",
              "      <td>73.0</td>\n",
              "      <td>...</td>\n",
              "      <td>35</td>\n",
              "      <td>32</td>\n",
              "      <td>29</td>\n",
              "      <td>9</td>\n",
              "      <td>9</td>\n",
              "      <td>15</td>\n",
              "      <td>15</td>\n",
              "      <td>11</td>\n",
              "      <td>NaN</td>\n",
              "      <td>1</td>\n",
              "    </tr>\n",
              "    <tr>\n",
              "      <th>4</th>\n",
              "      <td>192985</td>\n",
              "      <td>K. De Bruyne</td>\n",
              "      <td>91</td>\n",
              "      <td>91</td>\n",
              "      <td>125500000.0</td>\n",
              "      <td>350000.0</td>\n",
              "      <td>30</td>\n",
              "      <td>181</td>\n",
              "      <td>70</td>\n",
              "      <td>10.0</td>\n",
              "      <td>...</td>\n",
              "      <td>68</td>\n",
              "      <td>65</td>\n",
              "      <td>53</td>\n",
              "      <td>15</td>\n",
              "      <td>13</td>\n",
              "      <td>5</td>\n",
              "      <td>10</td>\n",
              "      <td>13</td>\n",
              "      <td>NaN</td>\n",
              "      <td>1</td>\n",
              "    </tr>\n",
              "  </tbody>\n",
              "</table>\n",
              "<p>5 rows × 66 columns</p>\n",
              "</div>\n",
              "    <div class=\"colab-df-buttons\">\n",
              "\n",
              "  <div class=\"colab-df-container\">\n",
              "    <button class=\"colab-df-convert\" onclick=\"convertToInteractive('df-f41e3bf3-c9d1-4124-807f-c6d401db11e5')\"\n",
              "            title=\"Convert this dataframe to an interactive table.\"\n",
              "            style=\"display:none;\">\n",
              "\n",
              "  <svg xmlns=\"http://www.w3.org/2000/svg\" height=\"24px\" viewBox=\"0 -960 960 960\">\n",
              "    <path d=\"M120-120v-720h720v720H120Zm60-500h600v-160H180v160Zm220 220h160v-160H400v160Zm0 220h160v-160H400v160ZM180-400h160v-160H180v160Zm440 0h160v-160H620v160ZM180-180h160v-160H180v160Zm440 0h160v-160H620v160Z\"/>\n",
              "  </svg>\n",
              "    </button>\n",
              "\n",
              "  <style>\n",
              "    .colab-df-container {\n",
              "      display:flex;\n",
              "      gap: 12px;\n",
              "    }\n",
              "\n",
              "    .colab-df-convert {\n",
              "      background-color: #E8F0FE;\n",
              "      border: none;\n",
              "      border-radius: 50%;\n",
              "      cursor: pointer;\n",
              "      display: none;\n",
              "      fill: #1967D2;\n",
              "      height: 32px;\n",
              "      padding: 0 0 0 0;\n",
              "      width: 32px;\n",
              "    }\n",
              "\n",
              "    .colab-df-convert:hover {\n",
              "      background-color: #E2EBFA;\n",
              "      box-shadow: 0px 1px 2px rgba(60, 64, 67, 0.3), 0px 1px 3px 1px rgba(60, 64, 67, 0.15);\n",
              "      fill: #174EA6;\n",
              "    }\n",
              "\n",
              "    .colab-df-buttons div {\n",
              "      margin-bottom: 4px;\n",
              "    }\n",
              "\n",
              "    [theme=dark] .colab-df-convert {\n",
              "      background-color: #3B4455;\n",
              "      fill: #D2E3FC;\n",
              "    }\n",
              "\n",
              "    [theme=dark] .colab-df-convert:hover {\n",
              "      background-color: #434B5C;\n",
              "      box-shadow: 0px 1px 3px 1px rgba(0, 0, 0, 0.15);\n",
              "      filter: drop-shadow(0px 1px 2px rgba(0, 0, 0, 0.3));\n",
              "      fill: #FFFFFF;\n",
              "    }\n",
              "  </style>\n",
              "\n",
              "    <script>\n",
              "      const buttonEl =\n",
              "        document.querySelector('#df-f41e3bf3-c9d1-4124-807f-c6d401db11e5 button.colab-df-convert');\n",
              "      buttonEl.style.display =\n",
              "        google.colab.kernel.accessAllowed ? 'block' : 'none';\n",
              "\n",
              "      async function convertToInteractive(key) {\n",
              "        const element = document.querySelector('#df-f41e3bf3-c9d1-4124-807f-c6d401db11e5');\n",
              "        const dataTable =\n",
              "          await google.colab.kernel.invokeFunction('convertToInteractive',\n",
              "                                                    [key], {});\n",
              "        if (!dataTable) return;\n",
              "\n",
              "        const docLinkHtml = 'Like what you see? Visit the ' +\n",
              "          '<a target=\"_blank\" href=https://colab.research.google.com/notebooks/data_table.ipynb>data table notebook</a>'\n",
              "          + ' to learn more about interactive tables.';\n",
              "        element.innerHTML = '';\n",
              "        dataTable['output_type'] = 'display_data';\n",
              "        await google.colab.output.renderOutput(dataTable, element);\n",
              "        const docLink = document.createElement('div');\n",
              "        docLink.innerHTML = docLinkHtml;\n",
              "        element.appendChild(docLink);\n",
              "      }\n",
              "    </script>\n",
              "  </div>\n",
              "\n",
              "\n",
              "<div id=\"df-a62ed883-fa3a-4255-9743-20d62d922c7e\">\n",
              "  <button class=\"colab-df-quickchart\" onclick=\"quickchart('df-a62ed883-fa3a-4255-9743-20d62d922c7e')\"\n",
              "            title=\"Suggest charts.\"\n",
              "            style=\"display:none;\">\n",
              "\n",
              "<svg xmlns=\"http://www.w3.org/2000/svg\" height=\"24px\"viewBox=\"0 0 24 24\"\n",
              "     width=\"24px\">\n",
              "    <g>\n",
              "        <path d=\"M19 3H5c-1.1 0-2 .9-2 2v14c0 1.1.9 2 2 2h14c1.1 0 2-.9 2-2V5c0-1.1-.9-2-2-2zM9 17H7v-7h2v7zm4 0h-2V7h2v10zm4 0h-2v-4h2v4z\"/>\n",
              "    </g>\n",
              "</svg>\n",
              "  </button>\n",
              "\n",
              "<style>\n",
              "  .colab-df-quickchart {\n",
              "      --bg-color: #E8F0FE;\n",
              "      --fill-color: #1967D2;\n",
              "      --hover-bg-color: #E2EBFA;\n",
              "      --hover-fill-color: #174EA6;\n",
              "      --disabled-fill-color: #AAA;\n",
              "      --disabled-bg-color: #DDD;\n",
              "  }\n",
              "\n",
              "  [theme=dark] .colab-df-quickchart {\n",
              "      --bg-color: #3B4455;\n",
              "      --fill-color: #D2E3FC;\n",
              "      --hover-bg-color: #434B5C;\n",
              "      --hover-fill-color: #FFFFFF;\n",
              "      --disabled-bg-color: #3B4455;\n",
              "      --disabled-fill-color: #666;\n",
              "  }\n",
              "\n",
              "  .colab-df-quickchart {\n",
              "    background-color: var(--bg-color);\n",
              "    border: none;\n",
              "    border-radius: 50%;\n",
              "    cursor: pointer;\n",
              "    display: none;\n",
              "    fill: var(--fill-color);\n",
              "    height: 32px;\n",
              "    padding: 0;\n",
              "    width: 32px;\n",
              "  }\n",
              "\n",
              "  .colab-df-quickchart:hover {\n",
              "    background-color: var(--hover-bg-color);\n",
              "    box-shadow: 0 1px 2px rgba(60, 64, 67, 0.3), 0 1px 3px 1px rgba(60, 64, 67, 0.15);\n",
              "    fill: var(--button-hover-fill-color);\n",
              "  }\n",
              "\n",
              "  .colab-df-quickchart-complete:disabled,\n",
              "  .colab-df-quickchart-complete:disabled:hover {\n",
              "    background-color: var(--disabled-bg-color);\n",
              "    fill: var(--disabled-fill-color);\n",
              "    box-shadow: none;\n",
              "  }\n",
              "\n",
              "  .colab-df-spinner {\n",
              "    border: 2px solid var(--fill-color);\n",
              "    border-color: transparent;\n",
              "    border-bottom-color: var(--fill-color);\n",
              "    animation:\n",
              "      spin 1s steps(1) infinite;\n",
              "  }\n",
              "\n",
              "  @keyframes spin {\n",
              "    0% {\n",
              "      border-color: transparent;\n",
              "      border-bottom-color: var(--fill-color);\n",
              "      border-left-color: var(--fill-color);\n",
              "    }\n",
              "    20% {\n",
              "      border-color: transparent;\n",
              "      border-left-color: var(--fill-color);\n",
              "      border-top-color: var(--fill-color);\n",
              "    }\n",
              "    30% {\n",
              "      border-color: transparent;\n",
              "      border-left-color: var(--fill-color);\n",
              "      border-top-color: var(--fill-color);\n",
              "      border-right-color: var(--fill-color);\n",
              "    }\n",
              "    40% {\n",
              "      border-color: transparent;\n",
              "      border-right-color: var(--fill-color);\n",
              "      border-top-color: var(--fill-color);\n",
              "    }\n",
              "    60% {\n",
              "      border-color: transparent;\n",
              "      border-right-color: var(--fill-color);\n",
              "    }\n",
              "    80% {\n",
              "      border-color: transparent;\n",
              "      border-right-color: var(--fill-color);\n",
              "      border-bottom-color: var(--fill-color);\n",
              "    }\n",
              "    90% {\n",
              "      border-color: transparent;\n",
              "      border-bottom-color: var(--fill-color);\n",
              "    }\n",
              "  }\n",
              "</style>\n",
              "\n",
              "  <script>\n",
              "    async function quickchart(key) {\n",
              "      const quickchartButtonEl =\n",
              "        document.querySelector('#' + key + ' button');\n",
              "      quickchartButtonEl.disabled = true;  // To prevent multiple clicks.\n",
              "      quickchartButtonEl.classList.add('colab-df-spinner');\n",
              "      try {\n",
              "        const charts = await google.colab.kernel.invokeFunction(\n",
              "            'suggestCharts', [key], {});\n",
              "      } catch (error) {\n",
              "        console.error('Error during call to suggestCharts:', error);\n",
              "      }\n",
              "      quickchartButtonEl.classList.remove('colab-df-spinner');\n",
              "      quickchartButtonEl.classList.add('colab-df-quickchart-complete');\n",
              "    }\n",
              "    (() => {\n",
              "      let quickchartButtonEl =\n",
              "        document.querySelector('#df-a62ed883-fa3a-4255-9743-20d62d922c7e button');\n",
              "      quickchartButtonEl.style.display =\n",
              "        google.colab.kernel.accessAllowed ? 'block' : 'none';\n",
              "    })();\n",
              "  </script>\n",
              "</div>\n",
              "    </div>\n",
              "  </div>\n"
            ]
          },
          "metadata": {},
          "execution_count": 4
        }
      ]
    },
    {
      "cell_type": "code",
      "source": [
        "dataframe = dataframe.drop(['club_team_id','club_name','league_name','club_jersey_number','nation_jersey_number','preferred_foot','work_rate','body_type','player_tags','player_traits','sofifa_id','short_name'],axis=1)"
      ],
      "metadata": {
        "id": "PcAnEjZcfJCm"
      },
      "execution_count": null,
      "outputs": []
    },
    {
      "cell_type": "code",
      "source": [
        "dataframe.info()"
      ],
      "metadata": {
        "colab": {
          "base_uri": "https://localhost:8080/"
        },
        "id": "vrROMah3hAQj",
        "outputId": "342c38f2-3dbd-4f23-fc21-2126377f30ff"
      },
      "execution_count": null,
      "outputs": [
        {
          "output_type": "stream",
          "name": "stdout",
          "text": [
            "<class 'pandas.core.frame.DataFrame'>\n",
            "RangeIndex: 7772 entries, 0 to 7771\n",
            "Data columns (total 54 columns):\n",
            " #   Column                       Non-Null Count  Dtype  \n",
            "---  ------                       --------------  -----  \n",
            " 0   overall                      7772 non-null   int64  \n",
            " 1   potential                    7772 non-null   int64  \n",
            " 2   value_eur                    7706 non-null   float64\n",
            " 3   wage_eur                     7711 non-null   float64\n",
            " 4   age                          7772 non-null   int64  \n",
            " 5   height_cm                    7772 non-null   int64  \n",
            " 6   weight_kg                    7772 non-null   int64  \n",
            " 7   league_level                 7711 non-null   float64\n",
            " 8   weak_foot                    7772 non-null   int64  \n",
            " 9   skill_moves                  7772 non-null   int64  \n",
            " 10  international_reputation     7772 non-null   int64  \n",
            " 11  release_clause_eur           7306 non-null   float64\n",
            " 12  pace                         7063 non-null   float64\n",
            " 13  shooting                     7063 non-null   float64\n",
            " 14  passing                      7063 non-null   float64\n",
            " 15  dribbling                    7063 non-null   float64\n",
            " 16  defending                    7063 non-null   float64\n",
            " 17  physic                       7063 non-null   float64\n",
            " 18  attacking_crossing           7772 non-null   int64  \n",
            " 19  attacking_finishing          7772 non-null   int64  \n",
            " 20  attacking_heading_accuracy   7772 non-null   int64  \n",
            " 21  attacking_short_passing      7772 non-null   int64  \n",
            " 22  attacking_volleys            7772 non-null   int64  \n",
            " 23  skill_dribbling              7772 non-null   int64  \n",
            " 24  skill_curve                  7772 non-null   int64  \n",
            " 25  skill_fk_accuracy            7772 non-null   int64  \n",
            " 26  skill_long_passing           7772 non-null   int64  \n",
            " 27  skill_ball_control           7772 non-null   int64  \n",
            " 28  movement_acceleration        7772 non-null   int64  \n",
            " 29  movement_sprint_speed        7772 non-null   int64  \n",
            " 30  movement_agility             7772 non-null   int64  \n",
            " 31  movement_reactions           7772 non-null   int64  \n",
            " 32  movement_balance             7772 non-null   int64  \n",
            " 33  power_shot_power             7772 non-null   int64  \n",
            " 34  power_jumping                7772 non-null   int64  \n",
            " 35  power_stamina                7772 non-null   int64  \n",
            " 36  power_strength               7772 non-null   int64  \n",
            " 37  power_long_shots             7772 non-null   int64  \n",
            " 38  mentality_aggression         7772 non-null   int64  \n",
            " 39  mentality_interceptions      7772 non-null   int64  \n",
            " 40  mentality_positioning        7772 non-null   int64  \n",
            " 41  mentality_vision             7772 non-null   int64  \n",
            " 42  mentality_penalties          7772 non-null   int64  \n",
            " 43  mentality_composure          7772 non-null   int64  \n",
            " 44  defending_marking_awareness  7772 non-null   int64  \n",
            " 45  defending_standing_tackle    7772 non-null   int64  \n",
            " 46  defending_sliding_tackle     7772 non-null   int64  \n",
            " 47  goalkeeping_diving           7772 non-null   int64  \n",
            " 48  goalkeeping_handling         7772 non-null   int64  \n",
            " 49  goalkeeping_kicking          7772 non-null   int64  \n",
            " 50  goalkeeping_positioning      7772 non-null   int64  \n",
            " 51  goalkeeping_reflexes         7772 non-null   int64  \n",
            " 52  goalkeeping_speed            709 non-null    float64\n",
            " 53  contribution_type            7772 non-null   int64  \n",
            "dtypes: float64(11), int64(43)\n",
            "memory usage: 3.2 MB\n"
          ]
        }
      ]
    },
    {
      "cell_type": "code",
      "source": [
        "median_value = dataframe['value_eur'].median()\n",
        "dataframe['value_eur'].fillna(value=median_value,inplace=True)\n",
        "\n",
        "median_value = dataframe['wage_eur'].median()\n",
        "dataframe['wage_eur'].fillna(value=median_value,inplace=True)\n",
        "\n",
        "median_value = dataframe['league_level'].median()\n",
        "dataframe['league_level'].fillna(value=median_value,inplace=True)\n",
        "\n",
        "median_value = dataframe['release_clause_eur'].median()\n",
        "dataframe['release_clause_eur'].fillna(value=median_value,inplace=True)\n",
        "\n",
        "median_value = dataframe['pace'].median()\n",
        "dataframe['pace'].fillna(value=median_value,inplace=True)\n",
        "\n",
        "median_value = dataframe['shooting'].median()\n",
        "dataframe['shooting'].fillna(value=median_value,inplace=True)\n",
        "\n",
        "median_value = dataframe['passing'].median()\n",
        "dataframe['passing'].fillna(value=median_value,inplace=True)\n",
        "\n",
        "median_value = dataframe['dribbling'].median()\n",
        "dataframe['dribbling'].fillna(value=median_value,inplace=True)\n",
        "\n",
        "median_value = dataframe['defending'].median()\n",
        "dataframe['defending'].fillna(value=median_value,inplace=True)\n",
        "\n",
        "median_value = dataframe['physic'].median()\n",
        "dataframe['physic'].fillna(value=median_value,inplace=True)\n",
        "\n",
        "median_value = dataframe['goalkeeping_speed'].median()\n",
        "dataframe['goalkeeping_speed'].fillna(value=median_value,inplace=True)\n"
      ],
      "metadata": {
        "id": "r0e3MY4Gfjoa"
      },
      "execution_count": null,
      "outputs": []
    },
    {
      "cell_type": "code",
      "source": [
        "dataframe.info()"
      ],
      "metadata": {
        "colab": {
          "base_uri": "https://localhost:8080/"
        },
        "id": "frgf9VvPhI7K",
        "outputId": "f0cc2014-fb84-46a8-ce46-de15dc396ac4"
      },
      "execution_count": null,
      "outputs": [
        {
          "output_type": "stream",
          "name": "stdout",
          "text": [
            "<class 'pandas.core.frame.DataFrame'>\n",
            "RangeIndex: 7772 entries, 0 to 7771\n",
            "Data columns (total 54 columns):\n",
            " #   Column                       Non-Null Count  Dtype  \n",
            "---  ------                       --------------  -----  \n",
            " 0   overall                      7772 non-null   int64  \n",
            " 1   potential                    7772 non-null   int64  \n",
            " 2   value_eur                    7772 non-null   float64\n",
            " 3   wage_eur                     7772 non-null   float64\n",
            " 4   age                          7772 non-null   int64  \n",
            " 5   height_cm                    7772 non-null   int64  \n",
            " 6   weight_kg                    7772 non-null   int64  \n",
            " 7   league_level                 7772 non-null   float64\n",
            " 8   weak_foot                    7772 non-null   int64  \n",
            " 9   skill_moves                  7772 non-null   int64  \n",
            " 10  international_reputation     7772 non-null   int64  \n",
            " 11  release_clause_eur           7772 non-null   float64\n",
            " 12  pace                         7772 non-null   float64\n",
            " 13  shooting                     7772 non-null   float64\n",
            " 14  passing                      7772 non-null   float64\n",
            " 15  dribbling                    7772 non-null   float64\n",
            " 16  defending                    7772 non-null   float64\n",
            " 17  physic                       7772 non-null   float64\n",
            " 18  attacking_crossing           7772 non-null   int64  \n",
            " 19  attacking_finishing          7772 non-null   int64  \n",
            " 20  attacking_heading_accuracy   7772 non-null   int64  \n",
            " 21  attacking_short_passing      7772 non-null   int64  \n",
            " 22  attacking_volleys            7772 non-null   int64  \n",
            " 23  skill_dribbling              7772 non-null   int64  \n",
            " 24  skill_curve                  7772 non-null   int64  \n",
            " 25  skill_fk_accuracy            7772 non-null   int64  \n",
            " 26  skill_long_passing           7772 non-null   int64  \n",
            " 27  skill_ball_control           7772 non-null   int64  \n",
            " 28  movement_acceleration        7772 non-null   int64  \n",
            " 29  movement_sprint_speed        7772 non-null   int64  \n",
            " 30  movement_agility             7772 non-null   int64  \n",
            " 31  movement_reactions           7772 non-null   int64  \n",
            " 32  movement_balance             7772 non-null   int64  \n",
            " 33  power_shot_power             7772 non-null   int64  \n",
            " 34  power_jumping                7772 non-null   int64  \n",
            " 35  power_stamina                7772 non-null   int64  \n",
            " 36  power_strength               7772 non-null   int64  \n",
            " 37  power_long_shots             7772 non-null   int64  \n",
            " 38  mentality_aggression         7772 non-null   int64  \n",
            " 39  mentality_interceptions      7772 non-null   int64  \n",
            " 40  mentality_positioning        7772 non-null   int64  \n",
            " 41  mentality_vision             7772 non-null   int64  \n",
            " 42  mentality_penalties          7772 non-null   int64  \n",
            " 43  mentality_composure          7772 non-null   int64  \n",
            " 44  defending_marking_awareness  7772 non-null   int64  \n",
            " 45  defending_standing_tackle    7772 non-null   int64  \n",
            " 46  defending_sliding_tackle     7772 non-null   int64  \n",
            " 47  goalkeeping_diving           7772 non-null   int64  \n",
            " 48  goalkeeping_handling         7772 non-null   int64  \n",
            " 49  goalkeeping_kicking          7772 non-null   int64  \n",
            " 50  goalkeeping_positioning      7772 non-null   int64  \n",
            " 51  goalkeeping_reflexes         7772 non-null   int64  \n",
            " 52  goalkeeping_speed            7772 non-null   float64\n",
            " 53  contribution_type            7772 non-null   int64  \n",
            "dtypes: float64(11), int64(43)\n",
            "memory usage: 3.2 MB\n"
          ]
        }
      ]
    },
    {
      "cell_type": "code",
      "source": [
        "#features\n",
        "X= dataframe.drop(columns=['overall'])\n",
        "#target variables\n",
        "Y= dataframe['overall']"
      ],
      "metadata": {
        "id": "FZ6OG9cVvYpF"
      },
      "execution_count": null,
      "outputs": []
    },
    {
      "cell_type": "code",
      "source": [
        "dataframe.head()"
      ],
      "metadata": {
        "colab": {
          "base_uri": "https://localhost:8080/",
          "height": 255
        },
        "id": "O47Hpj_BwdIy",
        "outputId": "03cbafa6-dc13-4072-9c4c-32ab484d29c8"
      },
      "execution_count": null,
      "outputs": [
        {
          "output_type": "execute_result",
          "data": {
            "text/plain": [
              "   overall  potential    value_eur  wage_eur  age  height_cm  weight_kg  \\\n",
              "0       93         93   78000000.0  320000.0   34        170         72   \n",
              "1       92         92  119500000.0  270000.0   32        185         81   \n",
              "2       91         91   45000000.0  270000.0   36        187         83   \n",
              "3       91         91  129000000.0  270000.0   29        175         68   \n",
              "4       91         91  125500000.0  350000.0   30        181         70   \n",
              "\n",
              "   league_level  weak_foot  skill_moves  ...  defending_marking_awareness  \\\n",
              "0           1.0          4            4  ...                           20   \n",
              "1           1.0          4            4  ...                           35   \n",
              "2           1.0          4            5  ...                           24   \n",
              "3           1.0          5            5  ...                           35   \n",
              "4           1.0          5            4  ...                           68   \n",
              "\n",
              "   defending_standing_tackle  defending_sliding_tackle  goalkeeping_diving  \\\n",
              "0                         35                        24                   6   \n",
              "1                         42                        19                  15   \n",
              "2                         32                        24                   7   \n",
              "3                         32                        29                   9   \n",
              "4                         65                        53                  15   \n",
              "\n",
              "   goalkeeping_handling  goalkeeping_kicking  goalkeeping_positioning  \\\n",
              "0                    11                   15                       14   \n",
              "1                     6                   12                        8   \n",
              "2                    11                   15                       14   \n",
              "3                     9                   15                       15   \n",
              "4                    13                    5                       10   \n",
              "\n",
              "   goalkeeping_reflexes  goalkeeping_speed  contribution_type  \n",
              "0                     8               42.0                  1  \n",
              "1                    10               42.0                  1  \n",
              "2                    11               42.0                  1  \n",
              "3                    11               42.0                  1  \n",
              "4                    13               42.0                  1  \n",
              "\n",
              "[5 rows x 54 columns]"
            ],
            "text/html": [
              "\n",
              "  <div id=\"df-292aed61-dadc-449d-a462-3db1d9062b33\" class=\"colab-df-container\">\n",
              "    <div>\n",
              "<style scoped>\n",
              "    .dataframe tbody tr th:only-of-type {\n",
              "        vertical-align: middle;\n",
              "    }\n",
              "\n",
              "    .dataframe tbody tr th {\n",
              "        vertical-align: top;\n",
              "    }\n",
              "\n",
              "    .dataframe thead th {\n",
              "        text-align: right;\n",
              "    }\n",
              "</style>\n",
              "<table border=\"1\" class=\"dataframe\">\n",
              "  <thead>\n",
              "    <tr style=\"text-align: right;\">\n",
              "      <th></th>\n",
              "      <th>overall</th>\n",
              "      <th>potential</th>\n",
              "      <th>value_eur</th>\n",
              "      <th>wage_eur</th>\n",
              "      <th>age</th>\n",
              "      <th>height_cm</th>\n",
              "      <th>weight_kg</th>\n",
              "      <th>league_level</th>\n",
              "      <th>weak_foot</th>\n",
              "      <th>skill_moves</th>\n",
              "      <th>...</th>\n",
              "      <th>defending_marking_awareness</th>\n",
              "      <th>defending_standing_tackle</th>\n",
              "      <th>defending_sliding_tackle</th>\n",
              "      <th>goalkeeping_diving</th>\n",
              "      <th>goalkeeping_handling</th>\n",
              "      <th>goalkeeping_kicking</th>\n",
              "      <th>goalkeeping_positioning</th>\n",
              "      <th>goalkeeping_reflexes</th>\n",
              "      <th>goalkeeping_speed</th>\n",
              "      <th>contribution_type</th>\n",
              "    </tr>\n",
              "  </thead>\n",
              "  <tbody>\n",
              "    <tr>\n",
              "      <th>0</th>\n",
              "      <td>93</td>\n",
              "      <td>93</td>\n",
              "      <td>78000000.0</td>\n",
              "      <td>320000.0</td>\n",
              "      <td>34</td>\n",
              "      <td>170</td>\n",
              "      <td>72</td>\n",
              "      <td>1.0</td>\n",
              "      <td>4</td>\n",
              "      <td>4</td>\n",
              "      <td>...</td>\n",
              "      <td>20</td>\n",
              "      <td>35</td>\n",
              "      <td>24</td>\n",
              "      <td>6</td>\n",
              "      <td>11</td>\n",
              "      <td>15</td>\n",
              "      <td>14</td>\n",
              "      <td>8</td>\n",
              "      <td>42.0</td>\n",
              "      <td>1</td>\n",
              "    </tr>\n",
              "    <tr>\n",
              "      <th>1</th>\n",
              "      <td>92</td>\n",
              "      <td>92</td>\n",
              "      <td>119500000.0</td>\n",
              "      <td>270000.0</td>\n",
              "      <td>32</td>\n",
              "      <td>185</td>\n",
              "      <td>81</td>\n",
              "      <td>1.0</td>\n",
              "      <td>4</td>\n",
              "      <td>4</td>\n",
              "      <td>...</td>\n",
              "      <td>35</td>\n",
              "      <td>42</td>\n",
              "      <td>19</td>\n",
              "      <td>15</td>\n",
              "      <td>6</td>\n",
              "      <td>12</td>\n",
              "      <td>8</td>\n",
              "      <td>10</td>\n",
              "      <td>42.0</td>\n",
              "      <td>1</td>\n",
              "    </tr>\n",
              "    <tr>\n",
              "      <th>2</th>\n",
              "      <td>91</td>\n",
              "      <td>91</td>\n",
              "      <td>45000000.0</td>\n",
              "      <td>270000.0</td>\n",
              "      <td>36</td>\n",
              "      <td>187</td>\n",
              "      <td>83</td>\n",
              "      <td>1.0</td>\n",
              "      <td>4</td>\n",
              "      <td>5</td>\n",
              "      <td>...</td>\n",
              "      <td>24</td>\n",
              "      <td>32</td>\n",
              "      <td>24</td>\n",
              "      <td>7</td>\n",
              "      <td>11</td>\n",
              "      <td>15</td>\n",
              "      <td>14</td>\n",
              "      <td>11</td>\n",
              "      <td>42.0</td>\n",
              "      <td>1</td>\n",
              "    </tr>\n",
              "    <tr>\n",
              "      <th>3</th>\n",
              "      <td>91</td>\n",
              "      <td>91</td>\n",
              "      <td>129000000.0</td>\n",
              "      <td>270000.0</td>\n",
              "      <td>29</td>\n",
              "      <td>175</td>\n",
              "      <td>68</td>\n",
              "      <td>1.0</td>\n",
              "      <td>5</td>\n",
              "      <td>5</td>\n",
              "      <td>...</td>\n",
              "      <td>35</td>\n",
              "      <td>32</td>\n",
              "      <td>29</td>\n",
              "      <td>9</td>\n",
              "      <td>9</td>\n",
              "      <td>15</td>\n",
              "      <td>15</td>\n",
              "      <td>11</td>\n",
              "      <td>42.0</td>\n",
              "      <td>1</td>\n",
              "    </tr>\n",
              "    <tr>\n",
              "      <th>4</th>\n",
              "      <td>91</td>\n",
              "      <td>91</td>\n",
              "      <td>125500000.0</td>\n",
              "      <td>350000.0</td>\n",
              "      <td>30</td>\n",
              "      <td>181</td>\n",
              "      <td>70</td>\n",
              "      <td>1.0</td>\n",
              "      <td>5</td>\n",
              "      <td>4</td>\n",
              "      <td>...</td>\n",
              "      <td>68</td>\n",
              "      <td>65</td>\n",
              "      <td>53</td>\n",
              "      <td>15</td>\n",
              "      <td>13</td>\n",
              "      <td>5</td>\n",
              "      <td>10</td>\n",
              "      <td>13</td>\n",
              "      <td>42.0</td>\n",
              "      <td>1</td>\n",
              "    </tr>\n",
              "  </tbody>\n",
              "</table>\n",
              "<p>5 rows × 54 columns</p>\n",
              "</div>\n",
              "    <div class=\"colab-df-buttons\">\n",
              "\n",
              "  <div class=\"colab-df-container\">\n",
              "    <button class=\"colab-df-convert\" onclick=\"convertToInteractive('df-292aed61-dadc-449d-a462-3db1d9062b33')\"\n",
              "            title=\"Convert this dataframe to an interactive table.\"\n",
              "            style=\"display:none;\">\n",
              "\n",
              "  <svg xmlns=\"http://www.w3.org/2000/svg\" height=\"24px\" viewBox=\"0 -960 960 960\">\n",
              "    <path d=\"M120-120v-720h720v720H120Zm60-500h600v-160H180v160Zm220 220h160v-160H400v160Zm0 220h160v-160H400v160ZM180-400h160v-160H180v160Zm440 0h160v-160H620v160ZM180-180h160v-160H180v160Zm440 0h160v-160H620v160Z\"/>\n",
              "  </svg>\n",
              "    </button>\n",
              "\n",
              "  <style>\n",
              "    .colab-df-container {\n",
              "      display:flex;\n",
              "      gap: 12px;\n",
              "    }\n",
              "\n",
              "    .colab-df-convert {\n",
              "      background-color: #E8F0FE;\n",
              "      border: none;\n",
              "      border-radius: 50%;\n",
              "      cursor: pointer;\n",
              "      display: none;\n",
              "      fill: #1967D2;\n",
              "      height: 32px;\n",
              "      padding: 0 0 0 0;\n",
              "      width: 32px;\n",
              "    }\n",
              "\n",
              "    .colab-df-convert:hover {\n",
              "      background-color: #E2EBFA;\n",
              "      box-shadow: 0px 1px 2px rgba(60, 64, 67, 0.3), 0px 1px 3px 1px rgba(60, 64, 67, 0.15);\n",
              "      fill: #174EA6;\n",
              "    }\n",
              "\n",
              "    .colab-df-buttons div {\n",
              "      margin-bottom: 4px;\n",
              "    }\n",
              "\n",
              "    [theme=dark] .colab-df-convert {\n",
              "      background-color: #3B4455;\n",
              "      fill: #D2E3FC;\n",
              "    }\n",
              "\n",
              "    [theme=dark] .colab-df-convert:hover {\n",
              "      background-color: #434B5C;\n",
              "      box-shadow: 0px 1px 3px 1px rgba(0, 0, 0, 0.15);\n",
              "      filter: drop-shadow(0px 1px 2px rgba(0, 0, 0, 0.3));\n",
              "      fill: #FFFFFF;\n",
              "    }\n",
              "  </style>\n",
              "\n",
              "    <script>\n",
              "      const buttonEl =\n",
              "        document.querySelector('#df-292aed61-dadc-449d-a462-3db1d9062b33 button.colab-df-convert');\n",
              "      buttonEl.style.display =\n",
              "        google.colab.kernel.accessAllowed ? 'block' : 'none';\n",
              "\n",
              "      async function convertToInteractive(key) {\n",
              "        const element = document.querySelector('#df-292aed61-dadc-449d-a462-3db1d9062b33');\n",
              "        const dataTable =\n",
              "          await google.colab.kernel.invokeFunction('convertToInteractive',\n",
              "                                                    [key], {});\n",
              "        if (!dataTable) return;\n",
              "\n",
              "        const docLinkHtml = 'Like what you see? Visit the ' +\n",
              "          '<a target=\"_blank\" href=https://colab.research.google.com/notebooks/data_table.ipynb>data table notebook</a>'\n",
              "          + ' to learn more about interactive tables.';\n",
              "        element.innerHTML = '';\n",
              "        dataTable['output_type'] = 'display_data';\n",
              "        await google.colab.output.renderOutput(dataTable, element);\n",
              "        const docLink = document.createElement('div');\n",
              "        docLink.innerHTML = docLinkHtml;\n",
              "        element.appendChild(docLink);\n",
              "      }\n",
              "    </script>\n",
              "  </div>\n",
              "\n",
              "\n",
              "<div id=\"df-09e7b2ff-7851-4853-91f9-6d162ce26be5\">\n",
              "  <button class=\"colab-df-quickchart\" onclick=\"quickchart('df-09e7b2ff-7851-4853-91f9-6d162ce26be5')\"\n",
              "            title=\"Suggest charts.\"\n",
              "            style=\"display:none;\">\n",
              "\n",
              "<svg xmlns=\"http://www.w3.org/2000/svg\" height=\"24px\"viewBox=\"0 0 24 24\"\n",
              "     width=\"24px\">\n",
              "    <g>\n",
              "        <path d=\"M19 3H5c-1.1 0-2 .9-2 2v14c0 1.1.9 2 2 2h14c1.1 0 2-.9 2-2V5c0-1.1-.9-2-2-2zM9 17H7v-7h2v7zm4 0h-2V7h2v10zm4 0h-2v-4h2v4z\"/>\n",
              "    </g>\n",
              "</svg>\n",
              "  </button>\n",
              "\n",
              "<style>\n",
              "  .colab-df-quickchart {\n",
              "      --bg-color: #E8F0FE;\n",
              "      --fill-color: #1967D2;\n",
              "      --hover-bg-color: #E2EBFA;\n",
              "      --hover-fill-color: #174EA6;\n",
              "      --disabled-fill-color: #AAA;\n",
              "      --disabled-bg-color: #DDD;\n",
              "  }\n",
              "\n",
              "  [theme=dark] .colab-df-quickchart {\n",
              "      --bg-color: #3B4455;\n",
              "      --fill-color: #D2E3FC;\n",
              "      --hover-bg-color: #434B5C;\n",
              "      --hover-fill-color: #FFFFFF;\n",
              "      --disabled-bg-color: #3B4455;\n",
              "      --disabled-fill-color: #666;\n",
              "  }\n",
              "\n",
              "  .colab-df-quickchart {\n",
              "    background-color: var(--bg-color);\n",
              "    border: none;\n",
              "    border-radius: 50%;\n",
              "    cursor: pointer;\n",
              "    display: none;\n",
              "    fill: var(--fill-color);\n",
              "    height: 32px;\n",
              "    padding: 0;\n",
              "    width: 32px;\n",
              "  }\n",
              "\n",
              "  .colab-df-quickchart:hover {\n",
              "    background-color: var(--hover-bg-color);\n",
              "    box-shadow: 0 1px 2px rgba(60, 64, 67, 0.3), 0 1px 3px 1px rgba(60, 64, 67, 0.15);\n",
              "    fill: var(--button-hover-fill-color);\n",
              "  }\n",
              "\n",
              "  .colab-df-quickchart-complete:disabled,\n",
              "  .colab-df-quickchart-complete:disabled:hover {\n",
              "    background-color: var(--disabled-bg-color);\n",
              "    fill: var(--disabled-fill-color);\n",
              "    box-shadow: none;\n",
              "  }\n",
              "\n",
              "  .colab-df-spinner {\n",
              "    border: 2px solid var(--fill-color);\n",
              "    border-color: transparent;\n",
              "    border-bottom-color: var(--fill-color);\n",
              "    animation:\n",
              "      spin 1s steps(1) infinite;\n",
              "  }\n",
              "\n",
              "  @keyframes spin {\n",
              "    0% {\n",
              "      border-color: transparent;\n",
              "      border-bottom-color: var(--fill-color);\n",
              "      border-left-color: var(--fill-color);\n",
              "    }\n",
              "    20% {\n",
              "      border-color: transparent;\n",
              "      border-left-color: var(--fill-color);\n",
              "      border-top-color: var(--fill-color);\n",
              "    }\n",
              "    30% {\n",
              "      border-color: transparent;\n",
              "      border-left-color: var(--fill-color);\n",
              "      border-top-color: var(--fill-color);\n",
              "      border-right-color: var(--fill-color);\n",
              "    }\n",
              "    40% {\n",
              "      border-color: transparent;\n",
              "      border-right-color: var(--fill-color);\n",
              "      border-top-color: var(--fill-color);\n",
              "    }\n",
              "    60% {\n",
              "      border-color: transparent;\n",
              "      border-right-color: var(--fill-color);\n",
              "    }\n",
              "    80% {\n",
              "      border-color: transparent;\n",
              "      border-right-color: var(--fill-color);\n",
              "      border-bottom-color: var(--fill-color);\n",
              "    }\n",
              "    90% {\n",
              "      border-color: transparent;\n",
              "      border-bottom-color: var(--fill-color);\n",
              "    }\n",
              "  }\n",
              "</style>\n",
              "\n",
              "  <script>\n",
              "    async function quickchart(key) {\n",
              "      const quickchartButtonEl =\n",
              "        document.querySelector('#' + key + ' button');\n",
              "      quickchartButtonEl.disabled = true;  // To prevent multiple clicks.\n",
              "      quickchartButtonEl.classList.add('colab-df-spinner');\n",
              "      try {\n",
              "        const charts = await google.colab.kernel.invokeFunction(\n",
              "            'suggestCharts', [key], {});\n",
              "      } catch (error) {\n",
              "        console.error('Error during call to suggestCharts:', error);\n",
              "      }\n",
              "      quickchartButtonEl.classList.remove('colab-df-spinner');\n",
              "      quickchartButtonEl.classList.add('colab-df-quickchart-complete');\n",
              "    }\n",
              "    (() => {\n",
              "      let quickchartButtonEl =\n",
              "        document.querySelector('#df-09e7b2ff-7851-4853-91f9-6d162ce26be5 button');\n",
              "      quickchartButtonEl.style.display =\n",
              "        google.colab.kernel.accessAllowed ? 'block' : 'none';\n",
              "    })();\n",
              "  </script>\n",
              "</div>\n",
              "    </div>\n",
              "  </div>\n"
            ]
          },
          "metadata": {},
          "execution_count": 65
        }
      ]
    },
    {
      "cell_type": "markdown",
      "source": [
        "# ***Train and Test split***\n",
        "\n",
        "---\n",
        "The train_test_split() method is used to split our data into train and test sets. First, we need to divide our data into features (X) and labels (Y). The dataframe gets divided into X_train, X_test, Y_train, and Y_test.\n",
        "With random_state=42, we get the same train and test sets across different executions."
      ],
      "metadata": {
        "id": "EN4Q0c8Gy2Pf"
      }
    },
    {
      "cell_type": "code",
      "source": [
        "##train test split\n",
        "from sklearn.model_selection import train_test_split\n",
        "X_train, X_test, Y_train, Y_test = train_test_split(X, Y, test_size=0.2, random_state=42)"
      ],
      "metadata": {
        "id": "84BhBdc5y6yk",
        "colab": {
          "base_uri": "https://localhost:8080/"
        },
        "outputId": "543b5771-7665-4c9f-a61d-7ef807c28bb6"
      },
      "execution_count": null,
      "outputs": [
        {
          "output_type": "execute_result",
          "data": {
            "text/plain": [
              "pandas.core.frame.DataFrame"
            ]
          },
          "metadata": {},
          "execution_count": 119
        }
      ]
    },
    {
      "cell_type": "code",
      "source": [
        "X_train\n"
      ],
      "metadata": {
        "colab": {
          "base_uri": "https://localhost:8080/"
        },
        "id": "t3T4OySy15aI",
        "outputId": "6a7ecd70-ac55-4ca3-d4c5-56df04cd393f"
      },
      "execution_count": null,
      "outputs": [
        {
          "output_type": "execute_result",
          "data": {
            "text/plain": [
              "array([[-1.00477957, -0.33102792, -0.36930608, ..., -0.17142759,\n",
              "         0.05553359,  1.09434744],\n",
              "       [ 0.65024231, -0.15260456, -0.28564195, ..., -0.28288018,\n",
              "         0.05553359,  1.09434744],\n",
              "       [-0.67377519, -0.29727215, -0.32747401, ..., -0.56151164,\n",
              "         0.05553359,  1.09434744],\n",
              "       ...,\n",
              "       [ 0.65024231,  0.21388665,  0.30000696, ..., -0.33860647,\n",
              "         0.05553359, -0.91378657],\n",
              "       [-1.9977927 , -0.39661055, -0.45297021, ...,  2.33625556,\n",
              "        -0.56486588, -0.91378657],\n",
              "       [-0.17726863, -0.34308355, -0.46970303, ..., -0.45005905,\n",
              "         0.05553359,  1.09434744]])"
            ]
          },
          "metadata": {},
          "execution_count": 100
        }
      ]
    },
    {
      "cell_type": "code",
      "source": [
        "X_test"
      ],
      "metadata": {
        "colab": {
          "base_uri": "https://localhost:8080/"
        },
        "id": "WpBzeLmH1_Y2",
        "outputId": "7c98608d-daa4-47c0-f081-61d4f0851b86"
      },
      "execution_count": null,
      "outputs": [
        {
          "output_type": "execute_result",
          "data": {
            "text/plain": [
              "array([[ 0.48474012, -0.27798313, -0.32747401, ..., -0.33860647,\n",
              "         0.05553359, -0.91378657],\n",
              "       [ 0.98124669, -0.07544852, -0.24380988, ..., -0.61723793,\n",
              "         0.05553359, -0.91378657],\n",
              "       [-0.50827301, -0.3840727 , -0.47388624, ..., -0.05997501,\n",
              "         0.05553359, -0.91378657],\n",
              "       ...,\n",
              "       [ 0.48474012,  0.01135203,  1.13664825, ..., -0.56151164,\n",
              "         0.05553359, -0.91378657],\n",
              "       [ 1.14674888, -0.33343904, -0.46342822, ..., -0.45005905,\n",
              "         0.05553359,  1.09434744],\n",
              "       [-1.17028176, -0.35272805, -0.36930608, ..., -0.22715388,\n",
              "         0.05553359, -0.91378657]])"
            ]
          },
          "metadata": {},
          "execution_count": 101
        }
      ]
    },
    {
      "cell_type": "code",
      "source": [
        "Y_train"
      ],
      "metadata": {
        "colab": {
          "base_uri": "https://localhost:8080/"
        },
        "id": "TLkROR232G7F",
        "outputId": "6265bb4c-3ca8-4d6b-dba2-7906c5839760"
      },
      "execution_count": null,
      "outputs": [
        {
          "output_type": "execute_result",
          "data": {
            "text/plain": [
              "5844    65\n",
              "2570    71\n",
              "3939    68\n",
              "6761    63\n",
              "3774    69\n",
              "        ..\n",
              "5226    66\n",
              "5390    66\n",
              "860     76\n",
              "7603    58\n",
              "7270    61\n",
              "Name: overall, Length: 6217, dtype: int64"
            ]
          },
          "metadata": {},
          "execution_count": 102
        }
      ]
    },
    {
      "cell_type": "markdown",
      "source": [
        "## ***Standardizing the dataset***\n",
        "The idea behind StandardScaler() is that it will transform your data such that its distribution will have a mean value 0 and standard deviation of 1."
      ],
      "metadata": {
        "id": "gh_RI-BXIt_e"
      }
    },
    {
      "cell_type": "code",
      "source": [
        "##standardizing the dataset\n",
        "from sklearn.preprocessing import StandardScaler\n",
        "scaler = StandardScaler()\n"
      ],
      "metadata": {
        "id": "Vz4e1-8323Nc"
      },
      "execution_count": null,
      "outputs": []
    },
    {
      "cell_type": "markdown",
      "source": [
        "***fit_transform()*** is used on the training data to learn the scaling or transformation parameters and then applies the same transformation to the training data."
      ],
      "metadata": {
        "id": "mOl4UB_2I6yt"
      }
    },
    {
      "cell_type": "code",
      "source": [
        "X_train = pd.DataFrame(scaler.fit_transform(X_train))\n"
      ],
      "metadata": {
        "id": "aAWT3nSs7u1A"
      },
      "execution_count": null,
      "outputs": []
    },
    {
      "cell_type": "markdown",
      "source": [
        "***transform()*** is used on new data (e.g. test data) to apply the same transformation that was learned on the training data."
      ],
      "metadata": {
        "id": "CnaHMegBJRWU"
      }
    },
    {
      "cell_type": "code",
      "source": [
        "X_test = pd.DataFrame(scaler.transform(X_test))"
      ],
      "metadata": {
        "id": "49lKI_I18J3e"
      },
      "execution_count": null,
      "outputs": []
    },
    {
      "cell_type": "code",
      "source": [
        "X_train"
      ],
      "metadata": {
        "colab": {
          "base_uri": "https://localhost:8080/",
          "height": 443
        },
        "id": "-tDwFXus8Vab",
        "outputId": "8afd202d-2b26-4284-d370-a50c54ddb352"
      },
      "execution_count": null,
      "outputs": [
        {
          "output_type": "execute_result",
          "data": {
            "text/plain": [
              "            0         1         2         3         4         5         6   \\\n",
              "0    -1.004780 -0.331028 -0.369306 -0.408557 -0.214163  0.209685 -0.470269   \n",
              "1     0.650242 -0.152605 -0.285642 -0.408557 -0.799224 -0.498185  0.843737   \n",
              "2    -0.673775 -0.297272 -0.327474  0.286825 -0.945489 -0.073463 -0.470269   \n",
              "3    -0.839277 -0.345495 -0.452970 -0.640351 -0.799224 -2.197073 -0.470269   \n",
              "4     0.650242 -0.142960 -0.201978 -0.872145 -0.506693 -1.489203  0.843737   \n",
              "...        ...       ...       ...       ...       ...       ...       ...   \n",
              "6212 -0.177269 -0.287628 -0.285642 -0.872145 -0.945489 -1.064481 -0.470269   \n",
              "6213  0.650242 -0.239405 -0.411138 -1.103939 -0.652959 -1.347629  0.843737   \n",
              "6214  0.650242  0.213887  0.300007  0.518619 -0.214163 -0.781333 -0.470269   \n",
              "6215 -1.997793 -0.396611 -0.452970  0.286825 -0.214163  0.209685 -0.470269   \n",
              "6216 -0.177269 -0.343084 -0.469703 -1.567526 -1.091754 -1.347629 -0.470269   \n",
              "\n",
              "            7         8         9   ...        43        44        45  \\\n",
              "0    -1.448765  0.698947 -0.312287  ...  0.042578  0.232514  0.113667   \n",
              "1     0.000000  1.972124 -0.312287  ...  0.347071  0.375439  0.452017   \n",
              "2     1.448765  0.698947 -0.312287  ...  0.702313  0.280156  0.307010   \n",
              "3     0.000000  0.698947 -0.312287  ... -1.429140 -1.339658 -1.191398   \n",
              "4     0.000000 -0.574230 -0.312287  ... -0.566409 -0.910884 -0.321355   \n",
              "...        ...       ...       ...  ...       ...       ...       ...   \n",
              "6212  0.000000  0.698947 -0.312287  ... -1.429140 -0.625034 -0.901384   \n",
              "6213  0.000000 -0.574230 -0.312287  ...  0.397820  0.518364  0.693696   \n",
              "6214  2.897530  0.698947 -0.312287  ...  0.803811  0.756572  0.887039   \n",
              "6215 -2.897530 -1.847407 -0.312287  ... -2.291871 -1.816074 -1.819763   \n",
              "6216 -1.448765 -0.574230 -0.312287  ... -1.632135 -1.196733 -1.288070   \n",
              "\n",
              "            46        47        48        49        50        51        52  \n",
              "0    -0.626263 -0.099468 -0.280921 -0.570713 -0.171428  0.055534  1.094347  \n",
              "1    -0.398040 -0.158815 -0.220006  0.008223 -0.282880  0.055534  1.094347  \n",
              "2    -0.226873 -0.574242 -0.037262 -0.049671 -0.561512  0.055534  1.094347  \n",
              "3    -0.340985 -0.574242 -0.402751 -0.165458 -0.338606  0.055534  1.094347  \n",
              "4    -0.226873 -0.336855 -0.037262 -0.397032 -0.394333  0.055534  1.094347  \n",
              "...        ...       ...       ...       ...       ...       ...       ...  \n",
              "6212 -0.512152 -0.396202 -0.098177 -0.339139 -0.338606  0.055534  1.094347  \n",
              "6213 -0.512152 -0.158815 -0.220006 -0.281245 -0.394333  0.055534 -0.913787  \n",
              "6214 -0.055707 -0.277509 -0.098177 -0.339139 -0.338606  0.055534 -0.913787  \n",
              "6215  2.397686  2.393097  2.703902  2.497647  2.336256 -0.564866 -0.913787  \n",
              "6216 -0.226873 -0.158815 -0.280921 -0.454926 -0.450059  0.055534  1.094347  \n",
              "\n",
              "[6217 rows x 53 columns]"
            ],
            "text/html": [
              "\n",
              "  <div id=\"df-049f6440-46dd-4baf-bab9-a1d175e831f1\" class=\"colab-df-container\">\n",
              "    <div>\n",
              "<style scoped>\n",
              "    .dataframe tbody tr th:only-of-type {\n",
              "        vertical-align: middle;\n",
              "    }\n",
              "\n",
              "    .dataframe tbody tr th {\n",
              "        vertical-align: top;\n",
              "    }\n",
              "\n",
              "    .dataframe thead th {\n",
              "        text-align: right;\n",
              "    }\n",
              "</style>\n",
              "<table border=\"1\" class=\"dataframe\">\n",
              "  <thead>\n",
              "    <tr style=\"text-align: right;\">\n",
              "      <th></th>\n",
              "      <th>0</th>\n",
              "      <th>1</th>\n",
              "      <th>2</th>\n",
              "      <th>3</th>\n",
              "      <th>4</th>\n",
              "      <th>5</th>\n",
              "      <th>6</th>\n",
              "      <th>7</th>\n",
              "      <th>8</th>\n",
              "      <th>9</th>\n",
              "      <th>...</th>\n",
              "      <th>43</th>\n",
              "      <th>44</th>\n",
              "      <th>45</th>\n",
              "      <th>46</th>\n",
              "      <th>47</th>\n",
              "      <th>48</th>\n",
              "      <th>49</th>\n",
              "      <th>50</th>\n",
              "      <th>51</th>\n",
              "      <th>52</th>\n",
              "    </tr>\n",
              "  </thead>\n",
              "  <tbody>\n",
              "    <tr>\n",
              "      <th>0</th>\n",
              "      <td>-1.004780</td>\n",
              "      <td>-0.331028</td>\n",
              "      <td>-0.369306</td>\n",
              "      <td>-0.408557</td>\n",
              "      <td>-0.214163</td>\n",
              "      <td>0.209685</td>\n",
              "      <td>-0.470269</td>\n",
              "      <td>-1.448765</td>\n",
              "      <td>0.698947</td>\n",
              "      <td>-0.312287</td>\n",
              "      <td>...</td>\n",
              "      <td>0.042578</td>\n",
              "      <td>0.232514</td>\n",
              "      <td>0.113667</td>\n",
              "      <td>-0.626263</td>\n",
              "      <td>-0.099468</td>\n",
              "      <td>-0.280921</td>\n",
              "      <td>-0.570713</td>\n",
              "      <td>-0.171428</td>\n",
              "      <td>0.055534</td>\n",
              "      <td>1.094347</td>\n",
              "    </tr>\n",
              "    <tr>\n",
              "      <th>1</th>\n",
              "      <td>0.650242</td>\n",
              "      <td>-0.152605</td>\n",
              "      <td>-0.285642</td>\n",
              "      <td>-0.408557</td>\n",
              "      <td>-0.799224</td>\n",
              "      <td>-0.498185</td>\n",
              "      <td>0.843737</td>\n",
              "      <td>0.000000</td>\n",
              "      <td>1.972124</td>\n",
              "      <td>-0.312287</td>\n",
              "      <td>...</td>\n",
              "      <td>0.347071</td>\n",
              "      <td>0.375439</td>\n",
              "      <td>0.452017</td>\n",
              "      <td>-0.398040</td>\n",
              "      <td>-0.158815</td>\n",
              "      <td>-0.220006</td>\n",
              "      <td>0.008223</td>\n",
              "      <td>-0.282880</td>\n",
              "      <td>0.055534</td>\n",
              "      <td>1.094347</td>\n",
              "    </tr>\n",
              "    <tr>\n",
              "      <th>2</th>\n",
              "      <td>-0.673775</td>\n",
              "      <td>-0.297272</td>\n",
              "      <td>-0.327474</td>\n",
              "      <td>0.286825</td>\n",
              "      <td>-0.945489</td>\n",
              "      <td>-0.073463</td>\n",
              "      <td>-0.470269</td>\n",
              "      <td>1.448765</td>\n",
              "      <td>0.698947</td>\n",
              "      <td>-0.312287</td>\n",
              "      <td>...</td>\n",
              "      <td>0.702313</td>\n",
              "      <td>0.280156</td>\n",
              "      <td>0.307010</td>\n",
              "      <td>-0.226873</td>\n",
              "      <td>-0.574242</td>\n",
              "      <td>-0.037262</td>\n",
              "      <td>-0.049671</td>\n",
              "      <td>-0.561512</td>\n",
              "      <td>0.055534</td>\n",
              "      <td>1.094347</td>\n",
              "    </tr>\n",
              "    <tr>\n",
              "      <th>3</th>\n",
              "      <td>-0.839277</td>\n",
              "      <td>-0.345495</td>\n",
              "      <td>-0.452970</td>\n",
              "      <td>-0.640351</td>\n",
              "      <td>-0.799224</td>\n",
              "      <td>-2.197073</td>\n",
              "      <td>-0.470269</td>\n",
              "      <td>0.000000</td>\n",
              "      <td>0.698947</td>\n",
              "      <td>-0.312287</td>\n",
              "      <td>...</td>\n",
              "      <td>-1.429140</td>\n",
              "      <td>-1.339658</td>\n",
              "      <td>-1.191398</td>\n",
              "      <td>-0.340985</td>\n",
              "      <td>-0.574242</td>\n",
              "      <td>-0.402751</td>\n",
              "      <td>-0.165458</td>\n",
              "      <td>-0.338606</td>\n",
              "      <td>0.055534</td>\n",
              "      <td>1.094347</td>\n",
              "    </tr>\n",
              "    <tr>\n",
              "      <th>4</th>\n",
              "      <td>0.650242</td>\n",
              "      <td>-0.142960</td>\n",
              "      <td>-0.201978</td>\n",
              "      <td>-0.872145</td>\n",
              "      <td>-0.506693</td>\n",
              "      <td>-1.489203</td>\n",
              "      <td>0.843737</td>\n",
              "      <td>0.000000</td>\n",
              "      <td>-0.574230</td>\n",
              "      <td>-0.312287</td>\n",
              "      <td>...</td>\n",
              "      <td>-0.566409</td>\n",
              "      <td>-0.910884</td>\n",
              "      <td>-0.321355</td>\n",
              "      <td>-0.226873</td>\n",
              "      <td>-0.336855</td>\n",
              "      <td>-0.037262</td>\n",
              "      <td>-0.397032</td>\n",
              "      <td>-0.394333</td>\n",
              "      <td>0.055534</td>\n",
              "      <td>1.094347</td>\n",
              "    </tr>\n",
              "    <tr>\n",
              "      <th>...</th>\n",
              "      <td>...</td>\n",
              "      <td>...</td>\n",
              "      <td>...</td>\n",
              "      <td>...</td>\n",
              "      <td>...</td>\n",
              "      <td>...</td>\n",
              "      <td>...</td>\n",
              "      <td>...</td>\n",
              "      <td>...</td>\n",
              "      <td>...</td>\n",
              "      <td>...</td>\n",
              "      <td>...</td>\n",
              "      <td>...</td>\n",
              "      <td>...</td>\n",
              "      <td>...</td>\n",
              "      <td>...</td>\n",
              "      <td>...</td>\n",
              "      <td>...</td>\n",
              "      <td>...</td>\n",
              "      <td>...</td>\n",
              "      <td>...</td>\n",
              "    </tr>\n",
              "    <tr>\n",
              "      <th>6212</th>\n",
              "      <td>-0.177269</td>\n",
              "      <td>-0.287628</td>\n",
              "      <td>-0.285642</td>\n",
              "      <td>-0.872145</td>\n",
              "      <td>-0.945489</td>\n",
              "      <td>-1.064481</td>\n",
              "      <td>-0.470269</td>\n",
              "      <td>0.000000</td>\n",
              "      <td>0.698947</td>\n",
              "      <td>-0.312287</td>\n",
              "      <td>...</td>\n",
              "      <td>-1.429140</td>\n",
              "      <td>-0.625034</td>\n",
              "      <td>-0.901384</td>\n",
              "      <td>-0.512152</td>\n",
              "      <td>-0.396202</td>\n",
              "      <td>-0.098177</td>\n",
              "      <td>-0.339139</td>\n",
              "      <td>-0.338606</td>\n",
              "      <td>0.055534</td>\n",
              "      <td>1.094347</td>\n",
              "    </tr>\n",
              "    <tr>\n",
              "      <th>6213</th>\n",
              "      <td>0.650242</td>\n",
              "      <td>-0.239405</td>\n",
              "      <td>-0.411138</td>\n",
              "      <td>-1.103939</td>\n",
              "      <td>-0.652959</td>\n",
              "      <td>-1.347629</td>\n",
              "      <td>0.843737</td>\n",
              "      <td>0.000000</td>\n",
              "      <td>-0.574230</td>\n",
              "      <td>-0.312287</td>\n",
              "      <td>...</td>\n",
              "      <td>0.397820</td>\n",
              "      <td>0.518364</td>\n",
              "      <td>0.693696</td>\n",
              "      <td>-0.512152</td>\n",
              "      <td>-0.158815</td>\n",
              "      <td>-0.220006</td>\n",
              "      <td>-0.281245</td>\n",
              "      <td>-0.394333</td>\n",
              "      <td>0.055534</td>\n",
              "      <td>-0.913787</td>\n",
              "    </tr>\n",
              "    <tr>\n",
              "      <th>6214</th>\n",
              "      <td>0.650242</td>\n",
              "      <td>0.213887</td>\n",
              "      <td>0.300007</td>\n",
              "      <td>0.518619</td>\n",
              "      <td>-0.214163</td>\n",
              "      <td>-0.781333</td>\n",
              "      <td>-0.470269</td>\n",
              "      <td>2.897530</td>\n",
              "      <td>0.698947</td>\n",
              "      <td>-0.312287</td>\n",
              "      <td>...</td>\n",
              "      <td>0.803811</td>\n",
              "      <td>0.756572</td>\n",
              "      <td>0.887039</td>\n",
              "      <td>-0.055707</td>\n",
              "      <td>-0.277509</td>\n",
              "      <td>-0.098177</td>\n",
              "      <td>-0.339139</td>\n",
              "      <td>-0.338606</td>\n",
              "      <td>0.055534</td>\n",
              "      <td>-0.913787</td>\n",
              "    </tr>\n",
              "    <tr>\n",
              "      <th>6215</th>\n",
              "      <td>-1.997793</td>\n",
              "      <td>-0.396611</td>\n",
              "      <td>-0.452970</td>\n",
              "      <td>0.286825</td>\n",
              "      <td>-0.214163</td>\n",
              "      <td>0.209685</td>\n",
              "      <td>-0.470269</td>\n",
              "      <td>-2.897530</td>\n",
              "      <td>-1.847407</td>\n",
              "      <td>-0.312287</td>\n",
              "      <td>...</td>\n",
              "      <td>-2.291871</td>\n",
              "      <td>-1.816074</td>\n",
              "      <td>-1.819763</td>\n",
              "      <td>2.397686</td>\n",
              "      <td>2.393097</td>\n",
              "      <td>2.703902</td>\n",
              "      <td>2.497647</td>\n",
              "      <td>2.336256</td>\n",
              "      <td>-0.564866</td>\n",
              "      <td>-0.913787</td>\n",
              "    </tr>\n",
              "    <tr>\n",
              "      <th>6216</th>\n",
              "      <td>-0.177269</td>\n",
              "      <td>-0.343084</td>\n",
              "      <td>-0.469703</td>\n",
              "      <td>-1.567526</td>\n",
              "      <td>-1.091754</td>\n",
              "      <td>-1.347629</td>\n",
              "      <td>-0.470269</td>\n",
              "      <td>-1.448765</td>\n",
              "      <td>-0.574230</td>\n",
              "      <td>-0.312287</td>\n",
              "      <td>...</td>\n",
              "      <td>-1.632135</td>\n",
              "      <td>-1.196733</td>\n",
              "      <td>-1.288070</td>\n",
              "      <td>-0.226873</td>\n",
              "      <td>-0.158815</td>\n",
              "      <td>-0.280921</td>\n",
              "      <td>-0.454926</td>\n",
              "      <td>-0.450059</td>\n",
              "      <td>0.055534</td>\n",
              "      <td>1.094347</td>\n",
              "    </tr>\n",
              "  </tbody>\n",
              "</table>\n",
              "<p>6217 rows × 53 columns</p>\n",
              "</div>\n",
              "    <div class=\"colab-df-buttons\">\n",
              "\n",
              "  <div class=\"colab-df-container\">\n",
              "    <button class=\"colab-df-convert\" onclick=\"convertToInteractive('df-049f6440-46dd-4baf-bab9-a1d175e831f1')\"\n",
              "            title=\"Convert this dataframe to an interactive table.\"\n",
              "            style=\"display:none;\">\n",
              "\n",
              "  <svg xmlns=\"http://www.w3.org/2000/svg\" height=\"24px\" viewBox=\"0 -960 960 960\">\n",
              "    <path d=\"M120-120v-720h720v720H120Zm60-500h600v-160H180v160Zm220 220h160v-160H400v160Zm0 220h160v-160H400v160ZM180-400h160v-160H180v160Zm440 0h160v-160H620v160ZM180-180h160v-160H180v160Zm440 0h160v-160H620v160Z\"/>\n",
              "  </svg>\n",
              "    </button>\n",
              "\n",
              "  <style>\n",
              "    .colab-df-container {\n",
              "      display:flex;\n",
              "      gap: 12px;\n",
              "    }\n",
              "\n",
              "    .colab-df-convert {\n",
              "      background-color: #E8F0FE;\n",
              "      border: none;\n",
              "      border-radius: 50%;\n",
              "      cursor: pointer;\n",
              "      display: none;\n",
              "      fill: #1967D2;\n",
              "      height: 32px;\n",
              "      padding: 0 0 0 0;\n",
              "      width: 32px;\n",
              "    }\n",
              "\n",
              "    .colab-df-convert:hover {\n",
              "      background-color: #E2EBFA;\n",
              "      box-shadow: 0px 1px 2px rgba(60, 64, 67, 0.3), 0px 1px 3px 1px rgba(60, 64, 67, 0.15);\n",
              "      fill: #174EA6;\n",
              "    }\n",
              "\n",
              "    .colab-df-buttons div {\n",
              "      margin-bottom: 4px;\n",
              "    }\n",
              "\n",
              "    [theme=dark] .colab-df-convert {\n",
              "      background-color: #3B4455;\n",
              "      fill: #D2E3FC;\n",
              "    }\n",
              "\n",
              "    [theme=dark] .colab-df-convert:hover {\n",
              "      background-color: #434B5C;\n",
              "      box-shadow: 0px 1px 3px 1px rgba(0, 0, 0, 0.15);\n",
              "      filter: drop-shadow(0px 1px 2px rgba(0, 0, 0, 0.3));\n",
              "      fill: #FFFFFF;\n",
              "    }\n",
              "  </style>\n",
              "\n",
              "    <script>\n",
              "      const buttonEl =\n",
              "        document.querySelector('#df-049f6440-46dd-4baf-bab9-a1d175e831f1 button.colab-df-convert');\n",
              "      buttonEl.style.display =\n",
              "        google.colab.kernel.accessAllowed ? 'block' : 'none';\n",
              "\n",
              "      async function convertToInteractive(key) {\n",
              "        const element = document.querySelector('#df-049f6440-46dd-4baf-bab9-a1d175e831f1');\n",
              "        const dataTable =\n",
              "          await google.colab.kernel.invokeFunction('convertToInteractive',\n",
              "                                                    [key], {});\n",
              "        if (!dataTable) return;\n",
              "\n",
              "        const docLinkHtml = 'Like what you see? Visit the ' +\n",
              "          '<a target=\"_blank\" href=https://colab.research.google.com/notebooks/data_table.ipynb>data table notebook</a>'\n",
              "          + ' to learn more about interactive tables.';\n",
              "        element.innerHTML = '';\n",
              "        dataTable['output_type'] = 'display_data';\n",
              "        await google.colab.output.renderOutput(dataTable, element);\n",
              "        const docLink = document.createElement('div');\n",
              "        docLink.innerHTML = docLinkHtml;\n",
              "        element.appendChild(docLink);\n",
              "      }\n",
              "    </script>\n",
              "  </div>\n",
              "\n",
              "\n",
              "<div id=\"df-c603d7d7-92a0-4af0-a29a-489582c0f081\">\n",
              "  <button class=\"colab-df-quickchart\" onclick=\"quickchart('df-c603d7d7-92a0-4af0-a29a-489582c0f081')\"\n",
              "            title=\"Suggest charts.\"\n",
              "            style=\"display:none;\">\n",
              "\n",
              "<svg xmlns=\"http://www.w3.org/2000/svg\" height=\"24px\"viewBox=\"0 0 24 24\"\n",
              "     width=\"24px\">\n",
              "    <g>\n",
              "        <path d=\"M19 3H5c-1.1 0-2 .9-2 2v14c0 1.1.9 2 2 2h14c1.1 0 2-.9 2-2V5c0-1.1-.9-2-2-2zM9 17H7v-7h2v7zm4 0h-2V7h2v10zm4 0h-2v-4h2v4z\"/>\n",
              "    </g>\n",
              "</svg>\n",
              "  </button>\n",
              "\n",
              "<style>\n",
              "  .colab-df-quickchart {\n",
              "      --bg-color: #E8F0FE;\n",
              "      --fill-color: #1967D2;\n",
              "      --hover-bg-color: #E2EBFA;\n",
              "      --hover-fill-color: #174EA6;\n",
              "      --disabled-fill-color: #AAA;\n",
              "      --disabled-bg-color: #DDD;\n",
              "  }\n",
              "\n",
              "  [theme=dark] .colab-df-quickchart {\n",
              "      --bg-color: #3B4455;\n",
              "      --fill-color: #D2E3FC;\n",
              "      --hover-bg-color: #434B5C;\n",
              "      --hover-fill-color: #FFFFFF;\n",
              "      --disabled-bg-color: #3B4455;\n",
              "      --disabled-fill-color: #666;\n",
              "  }\n",
              "\n",
              "  .colab-df-quickchart {\n",
              "    background-color: var(--bg-color);\n",
              "    border: none;\n",
              "    border-radius: 50%;\n",
              "    cursor: pointer;\n",
              "    display: none;\n",
              "    fill: var(--fill-color);\n",
              "    height: 32px;\n",
              "    padding: 0;\n",
              "    width: 32px;\n",
              "  }\n",
              "\n",
              "  .colab-df-quickchart:hover {\n",
              "    background-color: var(--hover-bg-color);\n",
              "    box-shadow: 0 1px 2px rgba(60, 64, 67, 0.3), 0 1px 3px 1px rgba(60, 64, 67, 0.15);\n",
              "    fill: var(--button-hover-fill-color);\n",
              "  }\n",
              "\n",
              "  .colab-df-quickchart-complete:disabled,\n",
              "  .colab-df-quickchart-complete:disabled:hover {\n",
              "    background-color: var(--disabled-bg-color);\n",
              "    fill: var(--disabled-fill-color);\n",
              "    box-shadow: none;\n",
              "  }\n",
              "\n",
              "  .colab-df-spinner {\n",
              "    border: 2px solid var(--fill-color);\n",
              "    border-color: transparent;\n",
              "    border-bottom-color: var(--fill-color);\n",
              "    animation:\n",
              "      spin 1s steps(1) infinite;\n",
              "  }\n",
              "\n",
              "  @keyframes spin {\n",
              "    0% {\n",
              "      border-color: transparent;\n",
              "      border-bottom-color: var(--fill-color);\n",
              "      border-left-color: var(--fill-color);\n",
              "    }\n",
              "    20% {\n",
              "      border-color: transparent;\n",
              "      border-left-color: var(--fill-color);\n",
              "      border-top-color: var(--fill-color);\n",
              "    }\n",
              "    30% {\n",
              "      border-color: transparent;\n",
              "      border-left-color: var(--fill-color);\n",
              "      border-top-color: var(--fill-color);\n",
              "      border-right-color: var(--fill-color);\n",
              "    }\n",
              "    40% {\n",
              "      border-color: transparent;\n",
              "      border-right-color: var(--fill-color);\n",
              "      border-top-color: var(--fill-color);\n",
              "    }\n",
              "    60% {\n",
              "      border-color: transparent;\n",
              "      border-right-color: var(--fill-color);\n",
              "    }\n",
              "    80% {\n",
              "      border-color: transparent;\n",
              "      border-right-color: var(--fill-color);\n",
              "      border-bottom-color: var(--fill-color);\n",
              "    }\n",
              "    90% {\n",
              "      border-color: transparent;\n",
              "      border-bottom-color: var(--fill-color);\n",
              "    }\n",
              "  }\n",
              "</style>\n",
              "\n",
              "  <script>\n",
              "    async function quickchart(key) {\n",
              "      const quickchartButtonEl =\n",
              "        document.querySelector('#' + key + ' button');\n",
              "      quickchartButtonEl.disabled = true;  // To prevent multiple clicks.\n",
              "      quickchartButtonEl.classList.add('colab-df-spinner');\n",
              "      try {\n",
              "        const charts = await google.colab.kernel.invokeFunction(\n",
              "            'suggestCharts', [key], {});\n",
              "      } catch (error) {\n",
              "        console.error('Error during call to suggestCharts:', error);\n",
              "      }\n",
              "      quickchartButtonEl.classList.remove('colab-df-spinner');\n",
              "      quickchartButtonEl.classList.add('colab-df-quickchart-complete');\n",
              "    }\n",
              "    (() => {\n",
              "      let quickchartButtonEl =\n",
              "        document.querySelector('#df-c603d7d7-92a0-4af0-a29a-489582c0f081 button');\n",
              "      quickchartButtonEl.style.display =\n",
              "        google.colab.kernel.accessAllowed ? 'block' : 'none';\n",
              "    })();\n",
              "  </script>\n",
              "</div>\n",
              "    </div>\n",
              "  </div>\n"
            ]
          },
          "metadata": {},
          "execution_count": 123
        }
      ]
    },
    {
      "cell_type": "markdown",
      "source": [
        "### ***1a.***"
      ],
      "metadata": {
        "id": "_XLg16CU3t_o"
      }
    },
    {
      "cell_type": "markdown",
      "source": [
        "### ***Linear Regression***"
      ],
      "metadata": {
        "id": "WRSKtRUw9UdF"
      }
    },
    {
      "cell_type": "code",
      "source": [
        "from sklearn.linear_model import LinearRegression\n"
      ],
      "metadata": {
        "id": "48hKMgIO8ipX"
      },
      "execution_count": null,
      "outputs": []
    },
    {
      "cell_type": "code",
      "source": [
        "#Train the Linear Regression model\n",
        "regressions=LinearRegression() #creates an instance of the Linear Regression model\n",
        "regressions.fit(X_train,Y_train) # fits the linear regression model using the training data"
      ],
      "metadata": {
        "colab": {
          "base_uri": "https://localhost:8080/",
          "height": 74
        },
        "id": "jMFlFOaL9Yu4",
        "outputId": "6ec7b920-bb9e-49fd-f1c9-6613de894294"
      },
      "execution_count": null,
      "outputs": [
        {
          "output_type": "execute_result",
          "data": {
            "text/plain": [
              "LinearRegression()"
            ],
            "text/html": [
              "<style>#sk-container-id-4 {color: black;background-color: white;}#sk-container-id-4 pre{padding: 0;}#sk-container-id-4 div.sk-toggleable {background-color: white;}#sk-container-id-4 label.sk-toggleable__label {cursor: pointer;display: block;width: 100%;margin-bottom: 0;padding: 0.3em;box-sizing: border-box;text-align: center;}#sk-container-id-4 label.sk-toggleable__label-arrow:before {content: \"▸\";float: left;margin-right: 0.25em;color: #696969;}#sk-container-id-4 label.sk-toggleable__label-arrow:hover:before {color: black;}#sk-container-id-4 div.sk-estimator:hover label.sk-toggleable__label-arrow:before {color: black;}#sk-container-id-4 div.sk-toggleable__content {max-height: 0;max-width: 0;overflow: hidden;text-align: left;background-color: #f0f8ff;}#sk-container-id-4 div.sk-toggleable__content pre {margin: 0.2em;color: black;border-radius: 0.25em;background-color: #f0f8ff;}#sk-container-id-4 input.sk-toggleable__control:checked~div.sk-toggleable__content {max-height: 200px;max-width: 100%;overflow: auto;}#sk-container-id-4 input.sk-toggleable__control:checked~label.sk-toggleable__label-arrow:before {content: \"▾\";}#sk-container-id-4 div.sk-estimator input.sk-toggleable__control:checked~label.sk-toggleable__label {background-color: #d4ebff;}#sk-container-id-4 div.sk-label input.sk-toggleable__control:checked~label.sk-toggleable__label {background-color: #d4ebff;}#sk-container-id-4 input.sk-hidden--visually {border: 0;clip: rect(1px 1px 1px 1px);clip: rect(1px, 1px, 1px, 1px);height: 1px;margin: -1px;overflow: hidden;padding: 0;position: absolute;width: 1px;}#sk-container-id-4 div.sk-estimator {font-family: monospace;background-color: #f0f8ff;border: 1px dotted black;border-radius: 0.25em;box-sizing: border-box;margin-bottom: 0.5em;}#sk-container-id-4 div.sk-estimator:hover {background-color: #d4ebff;}#sk-container-id-4 div.sk-parallel-item::after {content: \"\";width: 100%;border-bottom: 1px solid gray;flex-grow: 1;}#sk-container-id-4 div.sk-label:hover label.sk-toggleable__label {background-color: #d4ebff;}#sk-container-id-4 div.sk-serial::before {content: \"\";position: absolute;border-left: 1px solid gray;box-sizing: border-box;top: 0;bottom: 0;left: 50%;z-index: 0;}#sk-container-id-4 div.sk-serial {display: flex;flex-direction: column;align-items: center;background-color: white;padding-right: 0.2em;padding-left: 0.2em;position: relative;}#sk-container-id-4 div.sk-item {position: relative;z-index: 1;}#sk-container-id-4 div.sk-parallel {display: flex;align-items: stretch;justify-content: center;background-color: white;position: relative;}#sk-container-id-4 div.sk-item::before, #sk-container-id-4 div.sk-parallel-item::before {content: \"\";position: absolute;border-left: 1px solid gray;box-sizing: border-box;top: 0;bottom: 0;left: 50%;z-index: -1;}#sk-container-id-4 div.sk-parallel-item {display: flex;flex-direction: column;z-index: 1;position: relative;background-color: white;}#sk-container-id-4 div.sk-parallel-item:first-child::after {align-self: flex-end;width: 50%;}#sk-container-id-4 div.sk-parallel-item:last-child::after {align-self: flex-start;width: 50%;}#sk-container-id-4 div.sk-parallel-item:only-child::after {width: 0;}#sk-container-id-4 div.sk-dashed-wrapped {border: 1px dashed gray;margin: 0 0.4em 0.5em 0.4em;box-sizing: border-box;padding-bottom: 0.4em;background-color: white;}#sk-container-id-4 div.sk-label label {font-family: monospace;font-weight: bold;display: inline-block;line-height: 1.2em;}#sk-container-id-4 div.sk-label-container {text-align: center;}#sk-container-id-4 div.sk-container {/* jupyter's `normalize.less` sets `[hidden] { display: none; }` but bootstrap.min.css set `[hidden] { display: none !important; }` so we also need the `!important` here to be able to override the default hidden behavior on the sphinx rendered scikit-learn.org. See: https://github.com/scikit-learn/scikit-learn/issues/21755 */display: inline-block !important;position: relative;}#sk-container-id-4 div.sk-text-repr-fallback {display: none;}</style><div id=\"sk-container-id-4\" class=\"sk-top-container\"><div class=\"sk-text-repr-fallback\"><pre>LinearRegression()</pre><b>In a Jupyter environment, please rerun this cell to show the HTML representation or trust the notebook. <br />On GitHub, the HTML representation is unable to render, please try loading this page with nbviewer.org.</b></div><div class=\"sk-container\" hidden><div class=\"sk-item\"><div class=\"sk-estimator sk-toggleable\"><input class=\"sk-toggleable__control sk-hidden--visually\" id=\"sk-estimator-id-4\" type=\"checkbox\" checked><label for=\"sk-estimator-id-4\" class=\"sk-toggleable__label sk-toggleable__label-arrow\">LinearRegression</label><div class=\"sk-toggleable__content\"><pre>LinearRegression()</pre></div></div></div></div></div>"
            ]
          },
          "metadata": {},
          "execution_count": 125
        }
      ]
    },
    {
      "cell_type": "code",
      "source": [
        "##predictions on test data(X_test)\n",
        "reg_pred=regressions.predict(X_test) #reg_pred represents the predicted values from the regression model."
      ],
      "metadata": {
        "id": "evoUKvZLApso"
      },
      "execution_count": null,
      "outputs": []
    },
    {
      "cell_type": "code",
      "source": [
        "reg_pred"
      ],
      "metadata": {
        "colab": {
          "base_uri": "https://localhost:8080/"
        },
        "id": "KBIu8G9SA1Gf",
        "outputId": "fffeb301-186e-42bc-e9f3-e543231bb888"
      },
      "execution_count": null,
      "outputs": [
        {
          "output_type": "execute_result",
          "data": {
            "text/plain": [
              "array([72.39291603, 70.16215649, 73.51378143, ..., 73.46258729,\n",
              "       65.26498322, 63.3770393 ])"
            ]
          },
          "metadata": {},
          "execution_count": 127
        }
      ]
    },
    {
      "cell_type": "code",
      "source": [
        "import seaborn as sns\n",
        "sns.displot(reg_pred-Y_test,kind='kde')"
      ],
      "metadata": {
        "colab": {
          "base_uri": "https://localhost:8080/",
          "height": 518
        },
        "id": "7Pc9fI0EBBXG",
        "outputId": "4623246a-72ef-4f55-b824-2a741746ce5d"
      },
      "execution_count": null,
      "outputs": [
        {
          "output_type": "execute_result",
          "data": {
            "text/plain": [
              "<seaborn.axisgrid.FacetGrid at 0x7de0b80e7310>"
            ]
          },
          "metadata": {},
          "execution_count": 128
        },
        {
          "output_type": "display_data",
          "data": {
            "text/plain": [
              "<Figure size 500x500 with 1 Axes>"
            ],
            "image/png": "[encoded data removed]"
          },
          "metadata": {}
        }
      ]
    },
    {
      "cell_type": "markdown",
      "source": [
        "We can see from the above the graph that the variance is small.We can see except outliers, other data points have the diffrence between -6 to 6."
      ],
      "metadata": {
        "id": "zGic1n7IOfgQ"
      }
    },
    {
      "cell_type": "markdown",
      "source": [
        "# ***Reporting the Mean Absolute Error(MAE), Mean Square Error(MSE), R2 score***"
      ],
      "metadata": {
        "id": "-iJtO2GxMaeg"
      }
    },
    {
      "cell_type": "code",
      "source": [
        "from sklearn.metrics import mean_absolute_error\n",
        "from sklearn.metrics import mean_squared_error\n",
        "from sklearn.metrics import r2_score\n",
        "\n",
        "mae = mean_absolute_error(Y_test.to_numpy(), reg_pred)\n",
        "mse = mean_squared_error(Y_test.to_numpy(), reg_pred)\n",
        "score = r2_score(Y_test.to_numpy(),reg_pred)\n",
        "error,bias,var = bias_variance_decomp(regressions, X_train.values, Y_train.values, X_test.values, Y_test.values, loss='mse', random_seed=123)"
      ],
      "metadata": {
        "id": "cp6wwtfAiVhd"
      },
      "execution_count": null,
      "outputs": []
    },
    {
      "cell_type": "code",
      "source": [
        "print(\"MAE:\", mae)\n",
        "print(\"MSE:\", mse)\n",
        "print(\"R2 Score:\", score)\n",
        "print('MSE from bias_variance lib [avg expected loss]: %.3f' % error)\n",
        "print('Avg Bias: %.3f' % bias)\n",
        "print('Avg Variance: %.3f' % var)"
      ],
      "metadata": {
        "colab": {
          "base_uri": "https://localhost:8080/"
        },
        "id": "m2Ae6Ozn8bBT",
        "outputId": "5d538c67-c542-4e19-d852-a7e65a41c277"
      },
      "execution_count": null,
      "outputs": [
        {
          "output_type": "stream",
          "name": "stdout",
          "text": [
            "MAE: 1.1729818298412125\n",
            "MSE: 2.35264459385878\n",
            "R2 Score: 0.9374217179957465\n",
            "MSE from bias_variance lib [avg expected loss]: 2.374\n",
            "Avg Bias: 2.352\n",
            "Avg Variance: 0.022\n"
          ]
        }
      ]
    },
    {
      "cell_type": "code",
      "source": [
        "import seaborn as sns\n",
        "import matplotlib.pyplot as plt\n",
        "\n",
        "# Create a KDE plot of the residuals\n",
        "sns.set(style=\"whitegrid\")\n",
        "plt.figure(figsize=(8, 6))\n",
        "\n",
        "# Plot the predicted values (red line)\n",
        "sns.kdeplot(reg_pred, color='red', label='Predicted', linestyle='-', linewidth=2)\n",
        "\n",
        "# Plot the actual values (dotted line)\n",
        "sns.kdeplot(Y_test, color='blue', label='Actual', linestyle='--', linewidth=2)\n",
        "\n",
        "plt.xlabel(\"Values\")\n",
        "plt.ylabel(\"Density\")\n",
        "plt.title(\"Kernel Density Estimate (KDE) of Predicted vs. Actual Values\")\n",
        "plt.legend()\n",
        "plt.show()\n"
      ],
      "metadata": {
        "colab": {
          "base_uri": "https://localhost:8080/",
          "height": 573
        },
        "id": "dfHrTbA2PjFh",
        "outputId": "08ee8bf0-8e9e-471f-9aff-73c847f779fb"
      },
      "execution_count": null,
      "outputs": [
        {
          "output_type": "display_data",
          "data": {
            "text/plain": [
              "<Figure size 800x600 with 1 Axes>"
            ],
            "image/png": "[encoded data removed]"
          },
          "metadata": {}
        }
      ]
    },
    {
      "cell_type": "markdown",
      "source": [
        "### ***1b***"
      ],
      "metadata": {
        "id": "z1tJvUM-SqqB"
      }
    },
    {
      "cell_type": "markdown",
      "source": [
        "## ***Ridge Regression***"
      ],
      "metadata": {
        "id": "rZopJukBg7Uj"
      }
    },
    {
      "cell_type": "code",
      "source": [
        "from sklearn.linear_model import Ridge\n",
        "\n",
        "from sklearn import metrics"
      ],
      "metadata": {
        "id": "IBPCqvrWhCYF"
      },
      "execution_count": null,
      "outputs": []
    },
    {
      "cell_type": "code",
      "source": [
        "parameters=[0.05,0.1,0.2,0.5,1,2,5,10,20,30,40,50,60,70,80]"
      ],
      "metadata": {
        "id": "imJnHKITk2q3"
      },
      "execution_count": null,
      "outputs": []
    },
    {
      "cell_type": "code",
      "source": [
        "r_mae_list = []\n",
        "r_mse_list = []\n",
        "r_r2_list = []\n",
        "\n",
        "for a in parameters:\n",
        "    ridge_model = Ridge(alpha=a)\n",
        "    ridge_model.fit(X_train,Y_train)\n",
        "    ridge_pred = ridge_model.predict(X_test)\n",
        "\n",
        "    ridge_mae = mean_absolute_error(Y_test, ridge_pred)\n",
        "    ridge_mse = mean_squared_error(Y_test, ridge_pred)\n",
        "    ridge_r2 = r2_score(Y_test, ridge_pred)\n",
        "\n",
        "    r_mae_list.append(ridge_mae)\n",
        "    r_mse_list.append(ridge_mse)\n",
        "    r_r2_list.append(ridge_r2)\n",
        "\n",
        "\n"
      ],
      "metadata": {
        "id": "n2PMthkEpmAL"
      },
      "execution_count": null,
      "outputs": []
    },
    {
      "cell_type": "markdown",
      "source": [
        "# ***Plot hyperparameter tuning results for Ridge Regression***"
      ],
      "metadata": {
        "id": "yrKrVPHT4qAL"
      }
    },
    {
      "cell_type": "code",
      "source": [
        "# Plot hyperparameter tuning results for Ridge Regression\n",
        "plt.figure(figsize=(10, 4))\n",
        "plt.subplot(1, 3, 1)\n",
        "plt.plot(parameters, r_mae_list)\n",
        "plt.title(\"MAE vs. Alpha for Ridge\")\n",
        "plt.xlabel(\"Alpha\")\n",
        "plt.ylabel(\"MAE\")\n",
        "\n",
        "plt.subplot(1, 3, 2)\n",
        "plt.plot(parameters, r_mse_list)\n",
        "plt.title(\"MSE vs. Alpha for Ridge\")\n",
        "plt.xlabel(\"Alpha\")\n",
        "plt.ylabel(\"MSE\")\n",
        "\n",
        "plt.subplot(1, 3, 3)\n",
        "plt.plot(parameters,r_r2_list)\n",
        "plt.title(\"R2 Score vs. Alpha for Ridge\")\n",
        "plt.xlabel(\"Alpha\")\n",
        "plt.ylabel(\"R2 Score\")\n",
        "\n",
        "plt.tight_layout()\n",
        "plt.show()"
      ],
      "metadata": {
        "colab": {
          "base_uri": "https://localhost:8080/",
          "height": 401
        },
        "id": "5Ly07BKYtzVg",
        "outputId": "37b0daa1-995f-46c2-e5f8-65acba4ec4f4"
      },
      "execution_count": null,
      "outputs": [
        {
          "output_type": "display_data",
          "data": {
            "text/plain": [
              "<Figure size 1000x400 with 3 Axes>"
            ],
            "image/png": "[encoded data removed]"
          },
          "metadata": {}
        }
      ]
    },
    {
      "cell_type": "markdown",
      "source": [
        "# ***Choose the best alpha based on maximum R2 score***\n",
        "\n"
      ],
      "metadata": {
        "id": "tAi3TyJzuVwL"
      }
    },
    {
      "cell_type": "code",
      "source": [
        "best_alpha = parameters[r_r2_list.index(max(r_r2_list))]  # Change this based on your selection criteria\n",
        "print(f\"Best Ridge Alpha: {best_alpha}\")"
      ],
      "metadata": {
        "colab": {
          "base_uri": "https://localhost:8080/"
        },
        "id": "aq4FR9y9ucVv",
        "outputId": "e3add6c4-fd41-4fb0-fa8d-12a69a419f96"
      },
      "execution_count": null,
      "outputs": [
        {
          "output_type": "stream",
          "name": "stdout",
          "text": [
            "Best Ridge Alpha: 5\n"
          ]
        }
      ]
    },
    {
      "cell_type": "markdown",
      "source": [
        "# ***Train Ridge model with the best alpha and evaluate the best ridge model***"
      ],
      "metadata": {
        "id": "9jWTiN4n4bRa"
      }
    },
    {
      "cell_type": "code",
      "source": [
        "# Train Ridge model with the best alpha\n",
        "best_ridge_model = Ridge(alpha=best_alpha)\n",
        "best_ridge_model.fit(X_train, Y_train)\n",
        "best_ridge_pred = best_ridge_model.predict(X_test)\n",
        "\n",
        "# Evaluate the best Ridge model\n",
        "best_ridge_mae = mean_absolute_error(Y_test.to_numpy(), best_ridge_pred)\n",
        "best_ridge_mse = mean_squared_error(Y_test.to_numpy(), best_ridge_pred)\n",
        "best_ridge_r2 = r2_score(Y_test.to_numpy(), best_ridge_pred)\n",
        "error_ridge, bias_ridge, var_ridge = bias_variance_decomp(best_ridge_model, X_train.values, Y_train.values, X_test.values, Y_test.values, loss='mse', random_seed=123)\n",
        "print(\"Best Ridge Model Metrics:\")\n",
        "print(\"MAE:\", best_ridge_mae)\n",
        "print(\"MSE:\", best_ridge_mse)\n",
        "print(\"R2 Score:\", best_ridge_r2)\n",
        "print('MSE from bias_variance lib [avg expected loss]: %.3f' % error_ridge)\n",
        "print('Avg Bias: %.3f' % bias_ridge)\n",
        "print('Avg Variance: %.3f' % var_ridge)\n"
      ],
      "metadata": {
        "colab": {
          "base_uri": "https://localhost:8080/"
        },
        "id": "rHqXdCSvwQhQ",
        "outputId": "e140b083-0252-4902-fc6f-041fcff39c79"
      },
      "execution_count": null,
      "outputs": [
        {
          "output_type": "stream",
          "name": "stdout",
          "text": [
            "Best Ridge Model Metrics:\n",
            "MAE: 1.17260056240103\n",
            "MSE: 2.3512168784254546\n",
            "R2 Score: 0.9374596939736064\n",
            "MSE from bias_variance lib [avg expected loss]: 2.372\n",
            "Avg Bias: 2.351\n",
            "Avg Variance: 0.021\n"
          ]
        }
      ]
    },
    {
      "cell_type": "code",
      "source": [
        "import seaborn as sns\n",
        "import matplotlib.pyplot as plt\n",
        "\n",
        "# Create a KDE plot of the residuals\n",
        "sns.set(style=\"whitegrid\")\n",
        "plt.figure(figsize=(8, 6))\n",
        "\n",
        "# Plot the predicted values (red line)\n",
        "sns.kdeplot(best_ridge_pred, color='red', label='Predicted', linestyle='-', linewidth=2)\n",
        "\n",
        "# Plot the actual values (dotted line)\n",
        "sns.kdeplot(Y_test, color='blue', label='Actual', linestyle='--', linewidth=2)\n",
        "\n",
        "plt.xlabel(\"Values\")\n",
        "plt.ylabel(\"Density\")\n",
        "plt.title(\"Kernel Density Estimate (KDE) of Predicted vs. Actual Values\")\n",
        "plt.legend()\n",
        "plt.show()"
      ],
      "metadata": {
        "colab": {
          "base_uri": "https://localhost:8080/",
          "height": 573
        },
        "id": "Wq_6e697wmUF",
        "outputId": "0e8f034e-ceea-4054-b596-f9194c2a92ca"
      },
      "execution_count": null,
      "outputs": [
        {
          "output_type": "display_data",
          "data": {
            "text/plain": [
              "<Figure size 800x600 with 1 Axes>"
            ],
            "image/png": "[encoded data removed]"
          },
          "metadata": {}
        }
      ]
    },
    {
      "cell_type": "markdown",
      "source": [
        "# ***Lasso Regression***"
      ],
      "metadata": {
        "id": "X5ocvOJi5EbZ"
      }
    },
    {
      "cell_type": "code",
      "source": [
        "from sklearn.linear_model import Lasso"
      ],
      "metadata": {
        "id": "h8T9haqx5J7i"
      },
      "execution_count": null,
      "outputs": []
    },
    {
      "cell_type": "code",
      "source": [
        "parameters=[0.05,0.1,0.2,0.5,1,2,5,10,20,30,40,50,60,70,80]"
      ],
      "metadata": {
        "id": "sZaygZa885Wr"
      },
      "execution_count": null,
      "outputs": []
    },
    {
      "cell_type": "code",
      "source": [
        "l_mae_list = []\n",
        "l_mse_list = []\n",
        "l_r2_list = []\n",
        "bias_squared = []\n",
        "variance = []\n",
        "for a in parameters:\n",
        "    lasso_model = Lasso(alpha=a)\n",
        "    lasso_model.fit(X_train,Y_train)\n",
        "    lasso_pred = lasso_model.predict(X_test)\n",
        "\n",
        "    lasso_mae = mean_absolute_error(Y_test, lasso_pred)\n",
        "    lasso_mse = mean_squared_error(Y_test, lasso_pred)\n",
        "    lasso_r2 = r2_score(Y_test, lasso_pred)\n",
        "    # Calculate bias and variance\n",
        "    bias_squared.append(mean_squared_error(Y_test,lasso_pred))\n",
        "    variance.append(np.var(lasso_pred))\n",
        "\n",
        "    l_mae_list.append(lasso_mae)\n",
        "    l_mse_list.append(lasso_mse)\n",
        "    l_r2_list.append(lasso_r2)"
      ],
      "metadata": {
        "id": "Zz6sTuI39BVB"
      },
      "execution_count": null,
      "outputs": []
    },
    {
      "cell_type": "markdown",
      "source": [
        "## ***Plot hyperparameter tuning results for Lasso Regression***"
      ],
      "metadata": {
        "id": "YqYE3sPS9gZj"
      }
    },
    {
      "cell_type": "code",
      "source": [
        "plt.figure(figsize=(10, 4))\n",
        "plt.subplot(1, 3, 1)\n",
        "plt.plot(parameters, l_mae_list)\n",
        "plt.title(\"MAE vs. Alpha for Lasso\")\n",
        "plt.xlabel(\"Alpha\")\n",
        "plt.ylabel(\"MAE\")\n",
        "\n",
        "plt.subplot(1, 3, 2)\n",
        "plt.plot(parameters, l_mse_list)\n",
        "plt.title(\"MSE vs. Alpha for Lasso\")\n",
        "plt.xlabel(\"Alpha\")\n",
        "plt.ylabel(\"MSE\")\n",
        "\n",
        "plt.subplot(1, 3, 3)\n",
        "plt.plot(parameters,l_r2_list)\n",
        "plt.title(\"R2 Score vs. Alpha for Lasso\")\n",
        "plt.xlabel(\"Alpha\")\n",
        "plt.ylabel(\"R2 Score\")\n",
        "\n",
        "plt.tight_layout()\n",
        "plt.show()"
      ],
      "metadata": {
        "colab": {
          "base_uri": "https://localhost:8080/",
          "height": 401
        },
        "id": "VSekV5h59j_n",
        "outputId": "e3fc3a01-aeb4-42cb-ad15-fbe1335f8b78"
      },
      "execution_count": null,
      "outputs": [
        {
          "output_type": "display_data",
          "data": {
            "text/plain": [
              "<Figure size 1000x400 with 3 Axes>"
            ],
            "image/png": "[encoded data removed]"
          },
          "metadata": {}
        }
      ]
    },
    {
      "cell_type": "markdown",
      "source": [
        "### ***Choose the best alpha based on maximum R2 score***"
      ],
      "metadata": {
        "id": "VqNRQDab-daL"
      }
    },
    {
      "cell_type": "code",
      "source": [
        "best_alpha1 = parameters[l_r2_list.index(max(l_r2_list))]  # Change this based on your selection criteria\n",
        "print(f\"Best Ridge Alpha: {best_alpha1}\")"
      ],
      "metadata": {
        "colab": {
          "base_uri": "https://localhost:8080/"
        },
        "id": "k79omg5U-huX",
        "outputId": "ea3c7f65-e10f-4631-a487-eb798022d175"
      },
      "execution_count": null,
      "outputs": [
        {
          "output_type": "stream",
          "name": "stdout",
          "text": [
            "Best Ridge Alpha: 0.05\n"
          ]
        }
      ]
    },
    {
      "cell_type": "markdown",
      "source": [
        "### ***Train Lasso model with the best alpha and evaluate the best lasso model***"
      ],
      "metadata": {
        "id": "YMJyoI1Z_Hdg"
      }
    },
    {
      "cell_type": "code",
      "source": [
        "# Train Lasso model with the best alpha\n",
        "best_lasso_model = Lasso(alpha=best_alpha1)\n",
        "best_lasso_model.fit(X_train, Y_train)\n",
        "best_lasso_pred = best_lasso_model.predict(X_test)\n",
        "\n",
        "# Evaluate the best Lasso model\n",
        "best_lasso_mae = mean_absolute_error(Y_test.to_numpy(), best_lasso_pred)\n",
        "best_lasso_mse = mean_squared_error(Y_test.to_numpy(), best_lasso_pred)\n",
        "best_lasso_r2 = r2_score(Y_test.to_numpy(), best_lasso_pred)\n",
        "error_reg_las,bias_reg_las, var_reg_las = bias_variance_decomp(best_lasso_model, X_train.values, Y_train.values, X_test.values, Y_test.values, loss='mse', random_seed=123)\n",
        "\n",
        "print(\"Best Ridge Model Metrics:\")\n",
        "print(\"MAE:\", best_lasso_mae)\n",
        "print(\"MSE:\", best_lasso_mse)\n",
        "print(\"R2 Score:\", best_lasso_r2)\n",
        "print('MSE from bias_variance lib [avg expected loss]: %.3f' % error_reg_las)\n",
        "print('Avg Bias: %.3f' % bias_reg_las)\n",
        "print('Avg Variance: %.3f' % var_reg_las)"
      ],
      "metadata": {
        "colab": {
          "base_uri": "https://localhost:8080/"
        },
        "id": "tZ5sxhYH_NDn",
        "outputId": "e6d6eca8-9871-421a-8c47-6098d45c1f8a"
      },
      "execution_count": null,
      "outputs": [
        {
          "output_type": "stream",
          "name": "stdout",
          "text": [
            "Best Ridge Model Metrics:\n",
            "MAE: 1.2424116074728517\n",
            "MSE: 2.6319914239698523\n",
            "R2 Score: 0.9299913374115663\n",
            "MSE from bias_variance lib [avg expected loss]: 2.639\n",
            "Avg Bias: 2.626\n",
            "Avg Variance: 0.013\n"
          ]
        }
      ]
    },
    {
      "cell_type": "code",
      "source": [
        "import seaborn as sns\n",
        "import matplotlib.pyplot as plt\n",
        "\n",
        "# Create a KDE plot of the residuals\n",
        "sns.set(style=\"whitegrid\")\n",
        "plt.figure(figsize=(8, 6))\n",
        "\n",
        "# Plot the predicted values (red line)\n",
        "sns.kdeplot(best_lasso_pred, color='red', label='Predicted', linestyle='-', linewidth=2)\n",
        "\n",
        "# Plot the actual values (dotted line)\n",
        "sns.kdeplot(Y_test, color='blue', label='Actual', linestyle='--', linewidth=2)\n",
        "\n",
        "plt.xlabel(\"Values\")\n",
        "plt.ylabel(\"Density\")\n",
        "plt.title(\"Kernel Density Estimate (KDE) of Predicted vs. Actual Values\")\n",
        "plt.legend()\n",
        "plt.show()"
      ],
      "metadata": {
        "colab": {
          "base_uri": "https://localhost:8080/",
          "height": 573
        },
        "id": "uHryEQ_l_7rf",
        "outputId": "db601343-a97e-418f-c3fc-d1def53608c9"
      },
      "execution_count": null,
      "outputs": [
        {
          "output_type": "display_data",
          "data": {
            "text/plain": [
              "<Figure size 800x600 with 1 Axes>"
            ],
            "image/png": "[encoded data removed]"
          },
          "metadata": {}
        }
      ]
    }
  ]
}